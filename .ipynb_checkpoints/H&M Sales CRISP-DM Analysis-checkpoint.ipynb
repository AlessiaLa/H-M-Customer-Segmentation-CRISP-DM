{
 "cells": [
  {
   "cell_type": "code",
   "execution_count": 1,
   "metadata": {},
   "outputs": [
    {
     "name": "stdout",
     "output_type": "stream",
     "text": [
      "loading finished\n"
     ]
    }
   ],
   "source": [
    "import numpy as np # linear algebra\n",
    "import numpy.linalg as ln\n",
    "import pandas as pd # data processing\n",
    "import matplotlib.pyplot as plt\n",
    "import os\n",
    "import matplotlib.pyplot as plt\n",
    "import random\n",
    "import statistics\n",
    "\n",
    "# Importing the Datasets CSV\n",
    "\n",
    "dataset_customers = \"C:/Users/Alessia/Documents/GitHub/H-M-Sales-CRISP-DM-Analysis/Dataset/customers.csv\"\n",
    "dataset_articles = \"C:/Users/Alessia/Documents/GitHub/H-M-Sales-CRISP-DM-Analysis/Dataset/articles.csv\"\n",
    "dataset_transactions = \"C:/Users/Alessia/Documents/GitHub/H-M-Sales-CRISP-DM-Analysis/Dataset/transactions_train.csv\"\n",
    "\n",
    "# Read Datasets\n",
    "customers = pd.read_csv(dataset_customers)\n",
    "\n",
    "articles = pd.read_csv(dataset_articles)\n",
    "\n",
    "transactions = pd.read_csv(dataset_transactions)\n",
    "\n",
    "print(\"loading finished\")"
   ]
  },
  {
   "cell_type": "code",
   "execution_count": 2,
   "metadata": {},
   "outputs": [],
   "source": [
    "# Import CPT\n",
    "import os\n",
    "import sys\n",
    "sys.path.insert(0, os.path.abspath('C:/Users/Alessia/Documents/CPT-master/CPT-master/modules'))\n",
    "import CPT\n",
    "import PredictionTree\n",
    "from CPT import *"
   ]
  },
  {
   "cell_type": "code",
   "execution_count": 3,
   "metadata": {},
   "outputs": [],
   "source": [
    "# Instantiate CPT model\n",
    "# model = CPT()\n",
    "# data,target = model.load_files(\"C:/Users/Alessia/Documents/GitHub/H-M-Sales-CRISP-DM-Analysis/trainprova.csv\",\"C:/Users/Alessia/Documents/GitHub/H-M-Sales-CRISP-DM-Analysis/testprova.csv\")\n",
    "# print(data)\n",
    "# model.train(data)"
   ]
  },
  {
   "cell_type": "code",
   "execution_count": 4,
   "metadata": {},
   "outputs": [],
   "source": [
    "# Predictions using CPT, using the last 5 data in each sequence, and I should predict the next 3 items\n",
    "\n",
    "# predictions = model.predict(data,target,5,3)\n",
    "# print(predictions)"
   ]
  },
  {
   "cell_type": "code",
   "execution_count": 5,
   "metadata": {},
   "outputs": [
    {
     "name": "stdout",
     "output_type": "stream",
     "text": [
      "1371980 7\n",
      "105542 25\n",
      "31788324 5\n"
     ]
    }
   ],
   "source": [
    "#### EXPLORATORY ANALYSIS\n",
    "\n",
    "# Number of features and rows in Customers \n",
    "c_rows = customers.shape[0]\n",
    "c_features = customers.shape[1]\n",
    "print (c_rows, c_features)\n",
    "\n",
    "# Number of features and rows in Articles\n",
    "a_rows = articles.shape[0]\n",
    "a_features = articles.shape[1]\n",
    "print (a_rows, a_features)\n",
    "\n",
    "# Number of features and rows in Transactions\n",
    "t_rows = transactions.shape[0]\n",
    "t_features = transactions.shape[1] \n",
    "print(t_rows, t_features)\n"
   ]
  },
  {
   "cell_type": "code",
   "execution_count": 6,
   "metadata": {},
   "outputs": [
    {
     "name": "stdout",
     "output_type": "stream",
     "text": [
      "2018-09-20 2020-09-22\n"
     ]
    }
   ],
   "source": [
    "# Getting knowledge about updatedness of data\n",
    "print(transactions.iloc[1]['t_dat'], transactions.iloc[-1]['t_dat'])"
   ]
  },
  {
   "cell_type": "code",
   "execution_count": 7,
   "metadata": {},
   "outputs": [
    {
     "name": "stdout",
     "output_type": "stream",
     "text": [
      "Customers features: 7\n",
      "customer_id                object\n",
      "FN                        float64\n",
      "Active                    float64\n",
      "club_member_status         object\n",
      "fashion_news_frequency     object\n",
      "age                       float64\n",
      "postal_code                object\n",
      "dtype: object\n",
      "###########################\n",
      "Articles features: 25\n",
      "article_id                       int64\n",
      "product_code                     int64\n",
      "prod_name                       object\n",
      "product_type_no                  int64\n",
      "product_type_name               object\n",
      "product_group_name              object\n",
      "graphical_appearance_no          int64\n",
      "graphical_appearance_name       object\n",
      "colour_group_code                int64\n",
      "colour_group_name               object\n",
      "perceived_colour_value_id        int64\n",
      "perceived_colour_value_name     object\n",
      "perceived_colour_master_id       int64\n",
      "perceived_colour_master_name    object\n",
      "department_no                    int64\n",
      "department_name                 object\n",
      "index_code                      object\n",
      "index_name                      object\n",
      "index_group_no                   int64\n",
      "index_group_name                object\n",
      "section_no                       int64\n",
      "section_name                    object\n",
      "garment_group_no                 int64\n",
      "garment_group_name              object\n",
      "detail_desc                     object\n",
      "dtype: object\n",
      "###########################\n",
      "Transactions features: 5\n",
      "t_dat                object\n",
      "customer_id          object\n",
      "article_id            int64\n",
      "price               float64\n",
      "sales_channel_id      int64\n",
      "dtype: object\n"
     ]
    }
   ],
   "source": [
    "# Exploring the features of each dataset\n",
    "print(\"Customers features: \" + str(c_features))\n",
    "print(customers.dtypes)\n",
    "print(\"###########################\")\n",
    "print(\"Articles features: \" + str(a_features))\n",
    "print(articles.dtypes)\n",
    "print(\"###########################\")\n",
    "print(\"Transactions features: \" + str(t_features))\n",
    "print(transactions.dtypes)\n"
   ]
  },
  {
   "cell_type": "code",
   "execution_count": 8,
   "metadata": {},
   "outputs": [
    {
     "name": "stdout",
     "output_type": "stream",
     "text": [
      "352899\n"
     ]
    }
   ],
   "source": [
    "# How many different customers postal codes do we have?\n",
    "print(len(customers['postal_code'].unique()))"
   ]
  },
  {
   "cell_type": "code",
   "execution_count": 9,
   "metadata": {},
   "outputs": [
    {
     "name": "stdout",
     "output_type": "stream",
     "text": [
      "customer_id                    0\n",
      "FN                        895050\n",
      "Active                    907576\n",
      "club_member_status          6062\n",
      "fashion_news_frequency     16009\n",
      "age                        15861\n",
      "postal_code                    0\n",
      "dtype: int64\n"
     ]
    }
   ],
   "source": [
    "# Check if there are customer rows where some features are null\n",
    "print(customers.isna().sum())\n",
    "\n",
    "# Drop all columns where age is NaN\n",
    "customers = customers[customers[\"age\"].notna()]\n",
    "\n",
    "# Fill the NaN values in Active\n",
    "customers['Active'] = customers['Active'].fillna(0)"
   ]
  },
  {
   "cell_type": "code",
   "execution_count": 10,
   "metadata": {},
   "outputs": [],
   "source": [
    "# Replace all the occurrences of NONE with None\n",
    "\n",
    "customers['fashion_news_frequency'] = customers['fashion_news_frequency'].replace(['NONE'],'None')"
   ]
  },
  {
   "cell_type": "code",
   "execution_count": 11,
   "metadata": {},
   "outputs": [],
   "source": [
    "# Drop all columns where \"club_member_status\" and \"fashion_news_frequency\" are NaN\n",
    "customers = customers[customers[\"club_member_status\"].notna()]\n",
    "customers = customers[customers[\"fashion_news_frequency\"].notna()]"
   ]
  },
  {
   "cell_type": "code",
   "execution_count": 12,
   "metadata": {},
   "outputs": [],
   "source": [
    "# Extract non null values from \"club_member_status\" column and use them to fill the NaN values of the same column\n",
    "\n",
    "# values = customers['club_member_status'].value_counts(dropna=True)\n",
    "\n",
    "# a_v = customers[customers['club_member_status'].notna()]\n",
    "# active_values=a_v['club_member_status'].unique()\n",
    "# customers['club_member_status'] = customers['club_member_status'].fillna(np.random.choice(active_values.tolist()))\n",
    "# print(customers['club_member_status'].unique())"
   ]
  },
  {
   "cell_type": "markdown",
   "metadata": {},
   "source": [
    "Che cosa sto facendo sostanzialmente?\n",
    "Ho visto che per gli attributi \"fashion_news_frequency\" e \"club_member_status\" i valori nulli erano pochi rispetto alle totali istanze del dataset, per questo decido di dropparle dal dataset. Per quanto riguarda invece l'attributo FN, le istanze con i valori nulli sono molte rispetto al totale, quindi non posso rimuovere tutte quelle che non possiedono un valore per FN. Per questo motivo decido di non prendere in considerazione questa feature per la mia analisi."
   ]
  },
  {
   "cell_type": "code",
   "execution_count": 13,
   "metadata": {},
   "outputs": [],
   "source": [
    "# Replace NaN with 0 \n",
    "customers['FN'] = customers['FN'].fillna(0)"
   ]
  },
  {
   "cell_type": "code",
   "execution_count": 14,
   "metadata": {},
   "outputs": [
    {
     "name": "stdout",
     "output_type": "stream",
     "text": [
      "[0. 1.] ['ACTIVE' 'PRE-CREATE' 'LEFT CLUB'] ['None' 'Regularly' 'Monthly'] [0. 1.]\n"
     ]
    }
   ],
   "source": [
    "# Check the possible values for each of the following attributes\n",
    "print(customers['Active'].unique(), customers['club_member_status'].unique(),customers['fashion_news_frequency'].unique(),customers['FN'].unique())"
   ]
  },
  {
   "cell_type": "code",
   "execution_count": 15,
   "metadata": {},
   "outputs": [
    {
     "name": "stdout",
     "output_type": "stream",
     "text": [
      "customer_id               1338570\n",
      "FN                        1338570\n",
      "Active                    1338570\n",
      "club_member_status        1338570\n",
      "fashion_news_frequency    1338570\n",
      "age                       1338570\n",
      "postal_code               1338570\n",
      "dtype: int64\n"
     ]
    }
   ],
   "source": [
    "# At this point i have 1338570 homogeneous records for Customers\n",
    "print(customers.notna().sum())"
   ]
  },
  {
   "cell_type": "code",
   "execution_count": 16,
   "metadata": {},
   "outputs": [
    {
     "name": "stdout",
     "output_type": "stream",
     "text": [
      "t_dat               0\n",
      "customer_id         0\n",
      "article_id          0\n",
      "price               0\n",
      "sales_channel_id    0\n",
      "dtype: int64\n"
     ]
    }
   ],
   "source": [
    "# Check the transactions\n",
    "print(transactions.isna().sum())\n",
    "\n",
    "# The records for the transactions are all consistent"
   ]
  },
  {
   "cell_type": "code",
   "execution_count": 17,
   "metadata": {},
   "outputs": [],
   "source": [
    "# I split the customers\n",
    "customers_1 = customers[customers['customer_id'] < '669286']\n",
    "customers_2 = customers[customers['customer_id'] >= '669286']"
   ]
  },
  {
   "cell_type": "code",
   "execution_count": 18,
   "metadata": {},
   "outputs": [],
   "source": [
    "# Merging customers and transactions\n",
    "customers_transactions_1 = pd.merge(customers_1, transactions, on='customer_id')\n",
    "customers_transactions_2 = pd.merge(customers_2, transactions, on='customer_id')"
   ]
  },
  {
   "cell_type": "code",
   "execution_count": 19,
   "metadata": {},
   "outputs": [],
   "source": [
    "customers_transactions = customers_transactions_1.append(customers_transactions_2)"
   ]
  },
  {
   "cell_type": "code",
   "execution_count": 20,
   "metadata": {},
   "outputs": [
    {
     "name": "stdout",
     "output_type": "stream",
     "text": [
      "1328987\n",
      "9583\n"
     ]
    }
   ],
   "source": [
    "# Print unique values of customer_id in the whole dataframe customers_transactions\n",
    "print(len(customers_transactions[\"customer_id\"].unique()))\n",
    "\n",
    "# Double check of the number of customers without any transaction. There are 9583 customers without any transaction\n",
    "special_customers = customers[~customers[\"customer_id\"].astype(str).isin(customers_transactions[\"customer_id\"].astype(str).unique())]\n",
    "print(len(special_customers))"
   ]
  },
  {
   "cell_type": "code",
   "execution_count": 21,
   "metadata": {},
   "outputs": [],
   "source": [
    "# Split transactions dataframe because it's too large\n",
    "#trans_2018 = transactions[transactions['t_dat'] < \"2019-01-01\"]\n",
    "#trans_2019 = transactions[(transactions['t_dat'] < \"2020-01-01\") & (transactions['t_dat'] >= \"2019-01-01\")]\n",
    "#trans_2020 = transactions[transactions['t_dat'] >= \"2020-01-01\"]\n",
    "\n",
    "#print(len(trans_2018),len(trans_2019),len(trans_2020))\n",
    "\n",
    "# Check if the split was successful\n",
    "#print(trans_2018.iloc[1]['t_dat'], trans_2018.iloc[-1]['t_dat'])\n",
    "#print(trans_2019.iloc[1]['t_dat'], trans_2019.iloc[-1]['t_dat'])\n",
    "#print(trans_2020.iloc[1]['t_dat'], trans_2020.iloc[-1]['t_dat'])\n",
    "\n",
    "# Merge dataframes Customers and Transactions\n",
    "# customers_transactions_2018 = pd.merge(customers, trans_2018, on='customer_id')\n",
    "\n",
    "# customers_transactions_2019 = pd.merge(customers_transactions_2018, trans_2019, on='customer_id')\n",
    "# print(customers_transactions_2019.head())"
   ]
  },
  {
   "cell_type": "code",
   "execution_count": 22,
   "metadata": {},
   "outputs": [
    {
     "name": "stdout",
     "output_type": "stream",
     "text": [
      "[1 2]\n"
     ]
    }
   ],
   "source": [
    "print(customers_transactions[\"sales_channel_id\"].unique())"
   ]
  },
  {
   "cell_type": "code",
   "execution_count": 23,
   "metadata": {},
   "outputs": [],
   "source": [
    "# Finding number of articles purchased by each Customer in 2018\n",
    "df_2018 = customers_transactions.query('t_dat < \"2019-01-01\"')\n",
    "\n",
    "# Filter out labels of interest\n",
    "df_2018 = df_2018.filter(['customer_id', 'article_id'])\n",
    "df_2018.rename(columns = {'article_id':'tot_articles_2018'}, inplace = True)"
   ]
  },
  {
   "cell_type": "code",
   "execution_count": 24,
   "metadata": {},
   "outputs": [],
   "source": [
    "# Finding number of articles purchased by each Customer in 2019\n",
    "df_2019 = customers_transactions.query('t_dat < \"2020-01-01\" & t_dat>=\"2019-01-01\"')\n",
    " \n",
    "# Filter out labels of interest\n",
    "df_2019 = df_2019.filter(['customer_id', 'article_id'])\n",
    "df_2019.rename(columns = {'article_id':'tot_articles_2019'}, inplace = True)"
   ]
  },
  {
   "cell_type": "code",
   "execution_count": 25,
   "metadata": {},
   "outputs": [],
   "source": [
    "# Finding number of articles purchased by each Customer in 2020\n",
    "df_2020 = customers_transactions.query('t_dat >= \"2020-01-01\"')\n",
    " \n",
    "# Filter out labels of interest\n",
    "df_2020 = df_2020.filter(['customer_id', 'article_id'])\n",
    "df_2020.rename(columns = {'article_id':'tot_articles_2020'}, inplace = True)"
   ]
  },
  {
   "cell_type": "code",
   "execution_count": 26,
   "metadata": {},
   "outputs": [],
   "source": [
    "# Merge these new features into Customers dataset\n",
    "customers = pd.merge(customers,df_2018.groupby('customer_id').count(), on='customer_id')\n",
    "customers = pd.merge(customers,df_2019.groupby('customer_id').count(), on='customer_id')\n",
    "customers = pd.merge(customers,df_2020.groupby('customer_id').count(), on='customer_id')"
   ]
  },
  {
   "cell_type": "code",
   "execution_count": 27,
   "metadata": {},
   "outputs": [],
   "source": [
    "# Merge average articles 2018,2019,2020\n",
    "customers = pd.merge(customers,df_2018.groupby('customer_id').count()/3, on='customer_id')\n",
    "customers = pd.merge(customers,df_2019.groupby('customer_id').count()/12, on='customer_id')\n",
    "customers = pd.merge(customers,df_2020.groupby('customer_id').count()/9, on='customer_id')\n",
    "\n",
    "# rename\n",
    "customers.rename(columns = {'tot_articles_2018_y':'avg_articles_2018'}, inplace = True)\n",
    "customers.rename(columns = {'tot_articles_2019_y':'avg_articles_2019'}, inplace = True)\n",
    "customers.rename(columns = {'tot_articles_2020_y':'avg_articles_2020'}, inplace = True)\n",
    "customers.rename(columns = {'tot_articles_2018_x':'tot_articles_2018'}, inplace = True)\n",
    "customers.rename(columns = {'tot_articles_2019_x':'tot_articles_2019'}, inplace = True)\n",
    "customers.rename(columns = {'tot_articles_2020_x':'tot_articles_2020'}, inplace = True)"
   ]
  },
  {
   "cell_type": "code",
   "execution_count": 28,
   "metadata": {},
   "outputs": [
    {
     "name": "stdout",
     "output_type": "stream",
     "text": [
      "                                         customer_id   FN  Active  \\\n",
      "0  00000dbacae5abe5e23885899a1fa44253a17956c6d1c3...  0.0     0.0   \n",
      "1  0000423b00ade91418cceaf3b26c6af3dd342b51fd051e...  0.0     0.0   \n",
      "2  000058a12d5b43e67d225668fa1f8d618c13dc232df0ca...  0.0     0.0   \n",
      "3  00006413d8573cd20ed7128e53b7b13819fe5cfc2d801f...  1.0     1.0   \n",
      "4  00007d2de826758b65a93dd24ce629ed66842531df6699...  1.0     1.0   \n",
      "\n",
      "  club_member_status fashion_news_frequency   age  \\\n",
      "0             ACTIVE                   None  49.0   \n",
      "1             ACTIVE                   None  25.0   \n",
      "2             ACTIVE                   None  24.0   \n",
      "3             ACTIVE              Regularly  52.0   \n",
      "4             ACTIVE              Regularly  32.0   \n",
      "\n",
      "                                         postal_code  tot_articles_2018  \\\n",
      "0  52043ee2162cf5aa7ee79974281641c6f11a68d276429a...                  3   \n",
      "1  2973abc54daa8a5f8ccfe9362140c63247c5eee03f1d93...                  8   \n",
      "2  64f17e6a330a85798e4998f62d0930d14db8db1c054af6...                  3   \n",
      "3  25fa5ddee9aac01b35208d01736e57942317d756b32ddd...                  2   \n",
      "4  8d6f45050876d059c830a0fe63f1a4c022de279bb68ce3...                 32   \n",
      "\n",
      "   tot_articles_2019  tot_articles_2020  avg_articles_2018  avg_articles_2019  \\\n",
      "0                 12                  6           1.000000           1.000000   \n",
      "1                 44                 34           2.666667           3.666667   \n",
      "2                  1                 14           1.000000           0.083333   \n",
      "3                  4                  7           0.666667           0.333333   \n",
      "4                 78                 10          10.666667           6.500000   \n",
      "\n",
      "   avg_articles_2020  \n",
      "0           0.666667  \n",
      "1           3.777778  \n",
      "2           1.555556  \n",
      "3           0.777778  \n",
      "4           1.111111  \n",
      "(343426, 13)\n"
     ]
    }
   ],
   "source": [
    "print(customers.head())\n",
    "print(customers.shape)"
   ]
  },
  {
   "cell_type": "code",
   "execution_count": 29,
   "metadata": {},
   "outputs": [
    {
     "name": "stdout",
     "output_type": "stream",
     "text": [
      "                                                    sales_channel_1\n",
      "customer_id                                                        \n",
      "00000dbacae5abe5e23885899a1fa44253a17956c6d1c3d...                9\n",
      "0000423b00ade91418cceaf3b26c6af3dd342b51fd051ee...                5\n",
      "00006413d8573cd20ed7128e53b7b13819fe5cfc2d801fe...                2\n",
      "00007d2de826758b65a93dd24ce629ed66842531df66993...                3\n",
      "00007e8d4e54114b5b2a9b51586325a8d0fa74ea23ef773...                2\n",
      "...                                                             ...\n",
      "ffffaff3905b803d1c7e153a1378a5151e1f34f236ba545...                1\n",
      "ffffbbf78b6eaac697a8a5dfbfd2bfa8113ee5b403e4747...               13\n",
      "ffffcd5046a6143d29a04fb8c424ce494a76e5cdf4fab53...               28\n",
      "ffffcf35913a0bee60e8741cb2b4e78b8a98ee5ff2e6a17...               11\n",
      "ffffd7744cebcf3aca44ae7049d2a94b87074c3d4ffe38b...                1\n",
      "\n",
      "[725896 rows x 1 columns]\n"
     ]
    }
   ],
   "source": [
    "# Find the number of transactions of type 1 for each customer\n",
    "trans_type1 = customers_transactions.query('sales_channel_id == 1')\n",
    "trans_type1 = trans_type1.filter(['customer_id', 'sales_channel_id'])\n",
    "trans_type1.rename(columns = {'sales_channel_id':'sales_channel_1'}, inplace = True)\n",
    "print(trans_type1.groupby('customer_id').count())"
   ]
  },
  {
   "cell_type": "code",
   "execution_count": 30,
   "metadata": {},
   "outputs": [
    {
     "name": "stdout",
     "output_type": "stream",
     "text": [
      "                                                    sales_channel_2\n",
      "customer_id                                                        \n",
      "00000dbacae5abe5e23885899a1fa44253a17956c6d1c3d...               12\n",
      "0000423b00ade91418cceaf3b26c6af3dd342b51fd051ee...               81\n",
      "000058a12d5b43e67d225668fa1f8d618c13dc232df0cad...               18\n",
      "00005ca1c9ed5f5146b52ac8639a40ca9d57aeff4d1bd2c...                2\n",
      "00006413d8573cd20ed7128e53b7b13819fe5cfc2d801fe...               11\n",
      "...                                                             ...\n",
      "ffffbbf78b6eaac697a8a5dfbfd2bfa8113ee5b403e4747...               38\n",
      "ffffcd5046a6143d29a04fb8c424ce494a76e5cdf4fab53...               56\n",
      "ffffcf35913a0bee60e8741cb2b4e78b8a98ee5ff2e6a17...               34\n",
      "ffffd7744cebcf3aca44ae7049d2a94b87074c3d4ffe38b...                6\n",
      "ffffd9ac14e89946416d80e791d064701994755c3ab686a...                1\n",
      "\n",
      "[1082586 rows x 1 columns]\n"
     ]
    }
   ],
   "source": [
    "# Find the number of transactions of type 2 for each customer\n",
    "trans_type2 = customers_transactions.query('sales_channel_id == 2')\n",
    "trans_type2 = trans_type2.filter(['customer_id', 'sales_channel_id'])\n",
    "trans_type2.rename(columns = {'sales_channel_id':'sales_channel_2'}, inplace = True)\n",
    "print(trans_type2.groupby('customer_id').count())"
   ]
  },
  {
   "cell_type": "code",
   "execution_count": 31,
   "metadata": {},
   "outputs": [
    {
     "name": "stdout",
     "output_type": "stream",
     "text": [
      "(283295, 14)\n",
      "(256139, 15)\n"
     ]
    }
   ],
   "source": [
    "# Merge these new features into customers table\n",
    "\n",
    "customers = pd.merge(customers, trans_type1.groupby('customer_id').count(), on='customer_id')\n",
    "print(customers.shape)\n",
    "customers = pd.merge(customers,trans_type2.groupby('customer_id').count(), on='customer_id')\n",
    "print(customers.shape)"
   ]
  },
  {
   "cell_type": "code",
   "execution_count": 32,
   "metadata": {},
   "outputs": [
    {
     "name": "stdout",
     "output_type": "stream",
     "text": [
      "                                         customer_id   FN  Active  \\\n",
      "0  00000dbacae5abe5e23885899a1fa44253a17956c6d1c3...  0.0     0.0   \n",
      "1  0000423b00ade91418cceaf3b26c6af3dd342b51fd051e...  0.0     0.0   \n",
      "2  00006413d8573cd20ed7128e53b7b13819fe5cfc2d801f...  1.0     1.0   \n",
      "3  00007d2de826758b65a93dd24ce629ed66842531df6699...  1.0     1.0   \n",
      "4  00009d946eec3ea54add5ba56d5210ea898def4b46c685...  1.0     1.0   \n",
      "\n",
      "  club_member_status fashion_news_frequency   age  \\\n",
      "0             ACTIVE                   None  49.0   \n",
      "1             ACTIVE                   None  25.0   \n",
      "2             ACTIVE              Regularly  52.0   \n",
      "3             ACTIVE              Regularly  32.0   \n",
      "4             ACTIVE              Regularly  56.0   \n",
      "\n",
      "                                         postal_code  tot_articles_2018  \\\n",
      "0  52043ee2162cf5aa7ee79974281641c6f11a68d276429a...                  3   \n",
      "1  2973abc54daa8a5f8ccfe9362140c63247c5eee03f1d93...                  8   \n",
      "2  25fa5ddee9aac01b35208d01736e57942317d756b32ddd...                  2   \n",
      "3  8d6f45050876d059c830a0fe63f1a4c022de279bb68ce3...                 32   \n",
      "4  b31984b20a8c478de38eaf113c581ff64e63c4242e607b...                 28   \n",
      "\n",
      "   tot_articles_2019  tot_articles_2020  avg_articles_2018  avg_articles_2019  \\\n",
      "0                 12                  6           1.000000           1.000000   \n",
      "1                 44                 34           2.666667           3.666667   \n",
      "2                  4                  7           0.666667           0.333333   \n",
      "3                 78                 10          10.666667           6.500000   \n",
      "4                 62                 72           9.333333           5.166667   \n",
      "\n",
      "   avg_articles_2020  sales_channel_1  sales_channel_2  \n",
      "0           0.666667                9               12  \n",
      "1           3.777778                5               81  \n",
      "2           0.777778                2               11  \n",
      "3           1.111111                3              117  \n",
      "4           8.000000                1              161  \n"
     ]
    }
   ],
   "source": [
    "print(customers.head())"
   ]
  },
  {
   "cell_type": "code",
   "execution_count": 33,
   "metadata": {},
   "outputs": [
    {
     "name": "stdout",
     "output_type": "stream",
     "text": [
      "                                         customer_id   FN  Active  \\\n",
      "0  00000dbacae5abe5e23885899a1fa44253a17956c6d1c3...  0.0     0.0   \n",
      "1  00000dbacae5abe5e23885899a1fa44253a17956c6d1c3...  0.0     0.0   \n",
      "2  00000dbacae5abe5e23885899a1fa44253a17956c6d1c3...  0.0     0.0   \n",
      "3  00000dbacae5abe5e23885899a1fa44253a17956c6d1c3...  0.0     0.0   \n",
      "4  00000dbacae5abe5e23885899a1fa44253a17956c6d1c3...  0.0     0.0   \n",
      "\n",
      "  club_member_status fashion_news_frequency   age  \\\n",
      "0             ACTIVE                   None  49.0   \n",
      "1             ACTIVE                   None  49.0   \n",
      "2             ACTIVE                   None  49.0   \n",
      "3             ACTIVE                   None  49.0   \n",
      "4             ACTIVE                   None  49.0   \n",
      "\n",
      "                                         postal_code       t_dat  article_id  \\\n",
      "0  52043ee2162cf5aa7ee79974281641c6f11a68d276429a...  2018-12-27   625548001   \n",
      "1  52043ee2162cf5aa7ee79974281641c6f11a68d276429a...  2018-12-27   176209023   \n",
      "2  52043ee2162cf5aa7ee79974281641c6f11a68d276429a...  2018-12-27   627759010   \n",
      "3  52043ee2162cf5aa7ee79974281641c6f11a68d276429a...  2019-05-02   697138006   \n",
      "4  52043ee2162cf5aa7ee79974281641c6f11a68d276429a...  2019-05-25   568601006   \n",
      "\n",
      "      price  sales_channel_id  \n",
      "0  0.044051                 1  \n",
      "1  0.035576                 1  \n",
      "2  0.030492                 1  \n",
      "3  0.010153                 2  \n",
      "4  0.050831                 2  \n"
     ]
    }
   ],
   "source": [
    "# Merging Customers with Articles \n",
    "# customers_articles = pd.merge(pd.read_csv(dataset_customers), pd.read_csv(dataset_articles), on ='customer_id')\n",
    "print(customers_transactions.head())"
   ]
  },
  {
   "cell_type": "code",
   "execution_count": 34,
   "metadata": {},
   "outputs": [],
   "source": [
    "# Need to check some variables about the price column\n",
    "\n",
    "# Mean of the data\n",
    "\n",
    "# mean = statistics.fmean(transactions[\"price\"])\n",
    "# print(mean)\n"
   ]
  },
  {
   "cell_type": "code",
   "execution_count": 35,
   "metadata": {},
   "outputs": [],
   "source": [
    "# Square deviations\n",
    "\n",
    "# stdev = statistics.stdev(transactions[\"price\"])\n",
    "# print(stdev)"
   ]
  },
  {
   "cell_type": "code",
   "execution_count": 36,
   "metadata": {},
   "outputs": [],
   "source": [
    "# Variance\n",
    "# variance = statistics.variance(transactions[\"price\"])\n",
    "# print(variance)"
   ]
  },
  {
   "cell_type": "code",
   "execution_count": 37,
   "metadata": {},
   "outputs": [],
   "source": [
    "# Norm\n",
    "# norm = ln.norm(transactions[\"price\"])\n",
    "#print(norm)\n",
    "\n",
    "# Mean 0.027829273856993762\n",
    "# Std-deviation 0.019181128054793647\n",
    "# Variance 0.00036791567345439193\n",
    "# Norm 190.56357821702613"
   ]
  },
  {
   "cell_type": "code",
   "execution_count": 38,
   "metadata": {},
   "outputs": [
    {
     "name": "stdout",
     "output_type": "stream",
     "text": [
      "0.5915254237288136 69300 1.6949152542372878e-05 17329349\n"
     ]
    }
   ],
   "source": [
    "# I have checked that my values are standardized, but the values are not satisfactory.\n",
    "# So I decide to scale my values multiplying them for 10^3 in order to make them prices that are more realistic.\n",
    "# I have that my lowest value is 0.01 and my biggest is 591.52\n",
    "#transactions[\"price\"] = transactions[\"price\"] * (pow(10,3)) \n",
    "\n",
    "\n",
    "# Print the new min and max values, and the rows where they appear.\n",
    "print(transactions[\"price\"].max(), transactions[\"price\"].idxmax(),  transactions[\"price\"].min(),transactions[\"price\"].idxmin())"
   ]
  },
  {
   "cell_type": "code",
   "execution_count": 39,
   "metadata": {},
   "outputs": [],
   "source": [
    "##### Pick the important columns from transactions and then merge them with customers table\n",
    "am_2018 = transactions.query('t_dat < \"2019-01-01\"')\n",
    "\n",
    "#Filter out labels of interest\n",
    "am_2018 = am_2018.filter(['customer_id', 'price'])\n",
    "am_2018.rename(columns = {'price':'tot_amount_2018'}, inplace = True)"
   ]
  },
  {
   "cell_type": "code",
   "execution_count": 40,
   "metadata": {},
   "outputs": [],
   "source": [
    "##### Pick the important columns from transactions and then merge them with customers table\n",
    "am_2019 = transactions.query('t_dat < \"2020-01-01\" & t_dat>=\"2019-01-01\"')\n",
    "\n",
    "#Filter out labels of interest\n",
    "am_2019 = am_2019.filter(['customer_id', 'price'])\n",
    "am_2019.rename(columns = {'price':'tot_amount_2019'}, inplace = True)"
   ]
  },
  {
   "cell_type": "code",
   "execution_count": 41,
   "metadata": {},
   "outputs": [],
   "source": [
    "##### Pick the important columns from transactions and then merge them with customers table\n",
    "am_2020 = transactions.query('t_dat >= \"2020-01-01\"')\n",
    "\n",
    "#Filter out labels of interest\n",
    "am_2020 = am_2020.filter(['customer_id', 'price'])\n",
    "am_2020.rename(columns = {'price':'tot_amount_2020'}, inplace = True)"
   ]
  },
  {
   "cell_type": "code",
   "execution_count": 42,
   "metadata": {},
   "outputs": [],
   "source": [
    "# Merge these new tot_amount features into customers table\n",
    "customers = pd.merge(customers, am_2018.groupby('customer_id').sum(), on='customer_id')\n",
    "customers = pd.merge(customers, am_2019.groupby('customer_id').sum(), on='customer_id')\n",
    "customers = pd.merge(customers, am_2020.groupby('customer_id').sum(), on='customer_id')"
   ]
  },
  {
   "cell_type": "code",
   "execution_count": 43,
   "metadata": {},
   "outputs": [],
   "source": [
    "# Merge these new avg amounts features into customers table\n",
    "customers = pd.merge(customers, am_2018.groupby('customer_id').sum()/3, on='customer_id')\n",
    "customers = pd.merge(customers, am_2019.groupby('customer_id').sum()/12, on='customer_id')\n",
    "customers = pd.merge(customers, am_2020.groupby('customer_id').sum()/9, on='customer_id')"
   ]
  },
  {
   "cell_type": "code",
   "execution_count": 44,
   "metadata": {},
   "outputs": [
    {
     "name": "stdout",
     "output_type": "stream",
     "text": [
      "                                         customer_id   FN  Active  \\\n",
      "0  00000dbacae5abe5e23885899a1fa44253a17956c6d1c3...  0.0     0.0   \n",
      "1  0000423b00ade91418cceaf3b26c6af3dd342b51fd051e...  0.0     0.0   \n",
      "2  00006413d8573cd20ed7128e53b7b13819fe5cfc2d801f...  1.0     1.0   \n",
      "3  00007d2de826758b65a93dd24ce629ed66842531df6699...  1.0     1.0   \n",
      "4  00009d946eec3ea54add5ba56d5210ea898def4b46c685...  1.0     1.0   \n",
      "\n",
      "  club_member_status fashion_news_frequency   age  \\\n",
      "0             ACTIVE                   None  49.0   \n",
      "1             ACTIVE                   None  25.0   \n",
      "2             ACTIVE              Regularly  52.0   \n",
      "3             ACTIVE              Regularly  32.0   \n",
      "4             ACTIVE              Regularly  56.0   \n",
      "\n",
      "                                         postal_code  tot_articles_2018  \\\n",
      "0  52043ee2162cf5aa7ee79974281641c6f11a68d276429a...                  3   \n",
      "1  2973abc54daa8a5f8ccfe9362140c63247c5eee03f1d93...                  8   \n",
      "2  25fa5ddee9aac01b35208d01736e57942317d756b32ddd...                  2   \n",
      "3  8d6f45050876d059c830a0fe63f1a4c022de279bb68ce3...                 32   \n",
      "4  b31984b20a8c478de38eaf113c581ff64e63c4242e607b...                 28   \n",
      "\n",
      "   tot_articles_2019  tot_articles_2020  ...  avg_articles_2019  \\\n",
      "0                 12                  6  ...           1.000000   \n",
      "1                 44                 34  ...           3.666667   \n",
      "2                  4                  7  ...           0.333333   \n",
      "3                 78                 10  ...           6.500000   \n",
      "4                 62                 72  ...           5.166667   \n",
      "\n",
      "   avg_articles_2020  sales_channel_1  sales_channel_2  tot_amount_2018  \\\n",
      "0           0.666667                9               12         0.110119   \n",
      "1           3.777778                5               81         0.291390   \n",
      "2           0.777778                2               11         0.067763   \n",
      "3           1.111111                3              117         0.571661   \n",
      "4           8.000000                1              161         0.932085   \n",
      "\n",
      "   tot_amount_2019  tot_amount_2020  avg_amount_2018  avg_amount_2019  \\\n",
      "0         0.394390         0.144475         0.036706         0.032866   \n",
      "1         1.473831         0.836712         0.097130         0.122819   \n",
      "2         0.146119         0.255814         0.022588         0.012177   \n",
      "3         3.077203         0.174746         0.190554         0.256434   \n",
      "4         1.962356         2.113136         0.310695         0.163530   \n",
      "\n",
      "   avg_amount_2020  \n",
      "0         0.016053  \n",
      "1         0.092968  \n",
      "2         0.028424  \n",
      "3         0.019416  \n",
      "4         0.234793  \n",
      "\n",
      "[5 rows x 21 columns]\n"
     ]
    }
   ],
   "source": [
    "# Rename columns in customers\n",
    "customers.rename(columns = {'tot_amount_2018_y':'avg_amount_2018'}, inplace = True)\n",
    "customers.rename(columns = {'tot_amount_2019_y':'avg_amount_2019'}, inplace = True)\n",
    "customers.rename(columns = {'tot_amount_2020_y':'avg_amount_2020'}, inplace = True)\n",
    "customers.rename(columns = {'tot_amount_2018_x':'tot_amount_2018'}, inplace = True)\n",
    "customers.rename(columns = {'tot_amount_2019_x':'tot_amount_2019'}, inplace = True)\n",
    "customers.rename(columns = {'tot_amount_2020_x':'tot_amount_2020'}, inplace = True)\n",
    "print(customers.head())"
   ]
  },
  {
   "cell_type": "code",
   "execution_count": 45,
   "metadata": {},
   "outputs": [
    {
     "name": "stdout",
     "output_type": "stream",
     "text": [
      "['Ladieswear' 'Baby/Children' 'Menswear' 'Sport' 'Divided']\n",
      "[ 1  4  3 26  2]\n"
     ]
    }
   ],
   "source": [
    "# Infer sex of the customers thanks to the purchased articles\n",
    "\n",
    "# Analyze possible categories\n",
    "print(articles[\"index_group_name\"].unique())\n",
    "print(articles[\"index_group_no\"].unique())"
   ]
  },
  {
   "cell_type": "code",
   "execution_count": 46,
   "metadata": {},
   "outputs": [
    {
     "data": {
      "text/plain": [
       "Ladieswear       39737\n",
       "Baby/Children    34711\n",
       "Divided          15149\n",
       "Menswear         12553\n",
       "Sport             3392\n",
       "Name: index_group_name, dtype: int64"
      ]
     },
     "metadata": {},
     "output_type": "display_data"
    }
   ],
   "source": [
    "# We find how many articles we have divided for categories\n",
    "sex_category = articles[[\"index_group_no\", \"index_group_name\"]].reset_index()\n",
    "display(sex_category[\"index_group_name\"].value_counts())"
   ]
  },
  {
   "cell_type": "code",
   "execution_count": 47,
   "metadata": {},
   "outputs": [
    {
     "data": {
      "text/plain": [
       "<function matplotlib.pyplot.show(close=None, block=None)>"
      ]
     },
     "execution_count": 47,
     "metadata": {},
     "output_type": "execute_result"
    },
    {
     "data": {
      "image/png": "[encoded data removed]",
      "text/plain": [
       "<Figure size 360x360 with 1 Axes>"
      ]
     },
     "metadata": {},
     "output_type": "display_data"
    }
   ],
   "source": [
    "# We find the list of categories of articles and we plot the percentages of articles categories\n",
    "sex_category_list = sex_category[\"index_group_name\"].value_counts().index.to_list()\n",
    "plt.figure(figsize=(5, 5))\n",
    "plt.rcParams[\"font.size\"] = 12\n",
    "plt.pie(sex_category[\"index_group_name\"].value_counts().sort_values(ascending=False), \n",
    "        labels = sex_category_list, startangle = 90, counterclock=False, autopct=\"%1.1f%%\")\n",
    "plt.show"
   ]
  },
  {
   "cell_type": "code",
   "execution_count": 48,
   "metadata": {},
   "outputs": [
    {
     "data": {
      "text/html": [
       "<div>\n",
       "<style scoped>\n",
       "    .dataframe tbody tr th:only-of-type {\n",
       "        vertical-align: middle;\n",
       "    }\n",
       "\n",
       "    .dataframe tbody tr th {\n",
       "        vertical-align: top;\n",
       "    }\n",
       "\n",
       "    .dataframe thead th {\n",
       "        text-align: right;\n",
       "    }\n",
       "</style>\n",
       "<table border=\"1\" class=\"dataframe\">\n",
       "  <thead>\n",
       "    <tr style=\"text-align: right;\">\n",
       "      <th></th>\n",
       "      <th>article_id</th>\n",
       "      <th>sex_attribute</th>\n",
       "    </tr>\n",
       "  </thead>\n",
       "  <tbody>\n",
       "    <tr>\n",
       "      <th>0</th>\n",
       "      <td>108775015</td>\n",
       "      <td>1</td>\n",
       "    </tr>\n",
       "    <tr>\n",
       "      <th>1</th>\n",
       "      <td>108775044</td>\n",
       "      <td>1</td>\n",
       "    </tr>\n",
       "    <tr>\n",
       "      <th>2</th>\n",
       "      <td>108775051</td>\n",
       "      <td>1</td>\n",
       "    </tr>\n",
       "    <tr>\n",
       "      <th>3</th>\n",
       "      <td>110065001</td>\n",
       "      <td>1</td>\n",
       "    </tr>\n",
       "    <tr>\n",
       "      <th>4</th>\n",
       "      <td>110065002</td>\n",
       "      <td>1</td>\n",
       "    </tr>\n",
       "    <tr>\n",
       "      <th>...</th>\n",
       "      <td>...</td>\n",
       "      <td>...</td>\n",
       "    </tr>\n",
       "    <tr>\n",
       "      <th>105537</th>\n",
       "      <td>953450001</td>\n",
       "      <td>3</td>\n",
       "    </tr>\n",
       "    <tr>\n",
       "      <th>105538</th>\n",
       "      <td>953763001</td>\n",
       "      <td>1</td>\n",
       "    </tr>\n",
       "    <tr>\n",
       "      <th>105539</th>\n",
       "      <td>956217002</td>\n",
       "      <td>1</td>\n",
       "    </tr>\n",
       "    <tr>\n",
       "      <th>105540</th>\n",
       "      <td>957375001</td>\n",
       "      <td>2</td>\n",
       "    </tr>\n",
       "    <tr>\n",
       "      <th>105541</th>\n",
       "      <td>959461001</td>\n",
       "      <td>1</td>\n",
       "    </tr>\n",
       "  </tbody>\n",
       "</table>\n",
       "<p>105542 rows × 2 columns</p>\n",
       "</div>"
      ],
      "text/plain": [
       "        article_id  sex_attribute\n",
       "0        108775015              1\n",
       "1        108775044              1\n",
       "2        108775051              1\n",
       "3        110065001              1\n",
       "4        110065002              1\n",
       "...            ...            ...\n",
       "105537   953450001              3\n",
       "105538   953763001              1\n",
       "105539   956217002              1\n",
       "105540   957375001              2\n",
       "105541   959461001              1\n",
       "\n",
       "[105542 rows x 2 columns]"
      ]
     },
     "execution_count": 48,
     "metadata": {},
     "output_type": "execute_result"
    }
   ],
   "source": [
    "# I rename the index group as sex attribute\n",
    "articles_category_df = pd.DataFrame(articles[[\"article_id\", \"index_group_no\"]])\n",
    "articles_category_df.columns = [\"article_id\", \"sex_attribute\"]\n",
    "articles_category_df"
   ]
  },
  {
   "cell_type": "code",
   "execution_count": 49,
   "metadata": {},
   "outputs": [],
   "source": [
    "# I merge these sex attributes with the dataframe customers_transactions\n",
    "customers_transactions = pd.merge(customers_transactions, articles_category_df, on = \"article_id\", how = \"left\")"
   ]
  },
  {
   "cell_type": "code",
   "execution_count": 50,
   "metadata": {},
   "outputs": [],
   "source": [
    "cust_sex = customers_transactions[[\"customer_id\", \"sex_attribute\", \"article_id\"]].groupby([\"customer_id\",\"sex_attribute\"]).count().unstack()\n",
    "cust_sex.columns = [\"Woman\", \"Young\", \"Man\", \"Have-kids\", \"Sports-person\"]"
   ]
  },
  {
   "cell_type": "code",
   "execution_count": 51,
   "metadata": {},
   "outputs": [],
   "source": [
    "# Fill NaN values\n",
    "cust_sex = cust_sex.fillna(0)"
   ]
  },
  {
   "cell_type": "code",
   "execution_count": 52,
   "metadata": {},
   "outputs": [
    {
     "data": {
      "text/html": [
       "<div>\n",
       "<style scoped>\n",
       "    .dataframe tbody tr th:only-of-type {\n",
       "        vertical-align: middle;\n",
       "    }\n",
       "\n",
       "    .dataframe tbody tr th {\n",
       "        vertical-align: top;\n",
       "    }\n",
       "\n",
       "    .dataframe thead th {\n",
       "        text-align: right;\n",
       "    }\n",
       "</style>\n",
       "<table border=\"1\" class=\"dataframe\">\n",
       "  <thead>\n",
       "    <tr style=\"text-align: right;\">\n",
       "      <th></th>\n",
       "      <th>customer_id</th>\n",
       "      <th>FN</th>\n",
       "      <th>Active</th>\n",
       "      <th>club_member_status</th>\n",
       "      <th>fashion_news_frequency</th>\n",
       "      <th>age</th>\n",
       "      <th>postal_code</th>\n",
       "      <th>tot_articles_2018</th>\n",
       "      <th>tot_articles_2019</th>\n",
       "      <th>tot_articles_2020</th>\n",
       "      <th>...</th>\n",
       "      <th>tot_amount_2019</th>\n",
       "      <th>tot_amount_2020</th>\n",
       "      <th>avg_amount_2018</th>\n",
       "      <th>avg_amount_2019</th>\n",
       "      <th>avg_amount_2020</th>\n",
       "      <th>Woman</th>\n",
       "      <th>Young</th>\n",
       "      <th>Man</th>\n",
       "      <th>Have-kids</th>\n",
       "      <th>Sports-person</th>\n",
       "    </tr>\n",
       "  </thead>\n",
       "  <tbody>\n",
       "    <tr>\n",
       "      <th>0</th>\n",
       "      <td>00000dbacae5abe5e23885899a1fa44253a17956c6d1c3...</td>\n",
       "      <td>0.0</td>\n",
       "      <td>0.0</td>\n",
       "      <td>ACTIVE</td>\n",
       "      <td>None</td>\n",
       "      <td>49.0</td>\n",
       "      <td>52043ee2162cf5aa7ee79974281641c6f11a68d276429a...</td>\n",
       "      <td>3</td>\n",
       "      <td>12</td>\n",
       "      <td>6</td>\n",
       "      <td>...</td>\n",
       "      <td>0.394390</td>\n",
       "      <td>0.144475</td>\n",
       "      <td>0.036706</td>\n",
       "      <td>0.032866</td>\n",
       "      <td>0.016053</td>\n",
       "      <td>13.0</td>\n",
       "      <td>2.0</td>\n",
       "      <td>1.0</td>\n",
       "      <td>5.0</td>\n",
       "      <td>0.0</td>\n",
       "    </tr>\n",
       "    <tr>\n",
       "      <th>1</th>\n",
       "      <td>0000423b00ade91418cceaf3b26c6af3dd342b51fd051e...</td>\n",
       "      <td>0.0</td>\n",
       "      <td>0.0</td>\n",
       "      <td>ACTIVE</td>\n",
       "      <td>None</td>\n",
       "      <td>25.0</td>\n",
       "      <td>2973abc54daa8a5f8ccfe9362140c63247c5eee03f1d93...</td>\n",
       "      <td>8</td>\n",
       "      <td>44</td>\n",
       "      <td>34</td>\n",
       "      <td>...</td>\n",
       "      <td>1.473831</td>\n",
       "      <td>0.836712</td>\n",
       "      <td>0.097130</td>\n",
       "      <td>0.122819</td>\n",
       "      <td>0.092968</td>\n",
       "      <td>62.0</td>\n",
       "      <td>19.0</td>\n",
       "      <td>0.0</td>\n",
       "      <td>4.0</td>\n",
       "      <td>1.0</td>\n",
       "    </tr>\n",
       "    <tr>\n",
       "      <th>2</th>\n",
       "      <td>00006413d8573cd20ed7128e53b7b13819fe5cfc2d801f...</td>\n",
       "      <td>1.0</td>\n",
       "      <td>1.0</td>\n",
       "      <td>ACTIVE</td>\n",
       "      <td>Regularly</td>\n",
       "      <td>52.0</td>\n",
       "      <td>25fa5ddee9aac01b35208d01736e57942317d756b32ddd...</td>\n",
       "      <td>2</td>\n",
       "      <td>4</td>\n",
       "      <td>7</td>\n",
       "      <td>...</td>\n",
       "      <td>0.146119</td>\n",
       "      <td>0.255814</td>\n",
       "      <td>0.022588</td>\n",
       "      <td>0.012177</td>\n",
       "      <td>0.028424</td>\n",
       "      <td>11.0</td>\n",
       "      <td>0.0</td>\n",
       "      <td>0.0</td>\n",
       "      <td>0.0</td>\n",
       "      <td>2.0</td>\n",
       "    </tr>\n",
       "    <tr>\n",
       "      <th>3</th>\n",
       "      <td>00007d2de826758b65a93dd24ce629ed66842531df6699...</td>\n",
       "      <td>1.0</td>\n",
       "      <td>1.0</td>\n",
       "      <td>ACTIVE</td>\n",
       "      <td>Regularly</td>\n",
       "      <td>32.0</td>\n",
       "      <td>8d6f45050876d059c830a0fe63f1a4c022de279bb68ce3...</td>\n",
       "      <td>32</td>\n",
       "      <td>78</td>\n",
       "      <td>10</td>\n",
       "      <td>...</td>\n",
       "      <td>3.077203</td>\n",
       "      <td>0.174746</td>\n",
       "      <td>0.190554</td>\n",
       "      <td>0.256434</td>\n",
       "      <td>0.019416</td>\n",
       "      <td>84.0</td>\n",
       "      <td>34.0</td>\n",
       "      <td>0.0</td>\n",
       "      <td>0.0</td>\n",
       "      <td>2.0</td>\n",
       "    </tr>\n",
       "    <tr>\n",
       "      <th>4</th>\n",
       "      <td>00009d946eec3ea54add5ba56d5210ea898def4b46c685...</td>\n",
       "      <td>1.0</td>\n",
       "      <td>1.0</td>\n",
       "      <td>ACTIVE</td>\n",
       "      <td>Regularly</td>\n",
       "      <td>56.0</td>\n",
       "      <td>b31984b20a8c478de38eaf113c581ff64e63c4242e607b...</td>\n",
       "      <td>28</td>\n",
       "      <td>62</td>\n",
       "      <td>72</td>\n",
       "      <td>...</td>\n",
       "      <td>1.962356</td>\n",
       "      <td>2.113136</td>\n",
       "      <td>0.310695</td>\n",
       "      <td>0.163530</td>\n",
       "      <td>0.234793</td>\n",
       "      <td>79.0</td>\n",
       "      <td>28.0</td>\n",
       "      <td>52.0</td>\n",
       "      <td>0.0</td>\n",
       "      <td>3.0</td>\n",
       "    </tr>\n",
       "  </tbody>\n",
       "</table>\n",
       "<p>5 rows × 26 columns</p>\n",
       "</div>"
      ],
      "text/plain": [
       "                                         customer_id   FN  Active  \\\n",
       "0  00000dbacae5abe5e23885899a1fa44253a17956c6d1c3...  0.0     0.0   \n",
       "1  0000423b00ade91418cceaf3b26c6af3dd342b51fd051e...  0.0     0.0   \n",
       "2  00006413d8573cd20ed7128e53b7b13819fe5cfc2d801f...  1.0     1.0   \n",
       "3  00007d2de826758b65a93dd24ce629ed66842531df6699...  1.0     1.0   \n",
       "4  00009d946eec3ea54add5ba56d5210ea898def4b46c685...  1.0     1.0   \n",
       "\n",
       "  club_member_status fashion_news_frequency   age  \\\n",
       "0             ACTIVE                   None  49.0   \n",
       "1             ACTIVE                   None  25.0   \n",
       "2             ACTIVE              Regularly  52.0   \n",
       "3             ACTIVE              Regularly  32.0   \n",
       "4             ACTIVE              Regularly  56.0   \n",
       "\n",
       "                                         postal_code  tot_articles_2018  \\\n",
       "0  52043ee2162cf5aa7ee79974281641c6f11a68d276429a...                  3   \n",
       "1  2973abc54daa8a5f8ccfe9362140c63247c5eee03f1d93...                  8   \n",
       "2  25fa5ddee9aac01b35208d01736e57942317d756b32ddd...                  2   \n",
       "3  8d6f45050876d059c830a0fe63f1a4c022de279bb68ce3...                 32   \n",
       "4  b31984b20a8c478de38eaf113c581ff64e63c4242e607b...                 28   \n",
       "\n",
       "   tot_articles_2019  tot_articles_2020  ...  tot_amount_2019  \\\n",
       "0                 12                  6  ...         0.394390   \n",
       "1                 44                 34  ...         1.473831   \n",
       "2                  4                  7  ...         0.146119   \n",
       "3                 78                 10  ...         3.077203   \n",
       "4                 62                 72  ...         1.962356   \n",
       "\n",
       "   tot_amount_2020  avg_amount_2018  avg_amount_2019  avg_amount_2020  Woman  \\\n",
       "0         0.144475         0.036706         0.032866         0.016053   13.0   \n",
       "1         0.836712         0.097130         0.122819         0.092968   62.0   \n",
       "2         0.255814         0.022588         0.012177         0.028424   11.0   \n",
       "3         0.174746         0.190554         0.256434         0.019416   84.0   \n",
       "4         2.113136         0.310695         0.163530         0.234793   79.0   \n",
       "\n",
       "   Young   Man  Have-kids  Sports-person  \n",
       "0    2.0   1.0        5.0            0.0  \n",
       "1   19.0   0.0        4.0            1.0  \n",
       "2    0.0   0.0        0.0            2.0  \n",
       "3   34.0   0.0        0.0            2.0  \n",
       "4   28.0  52.0        0.0            3.0  \n",
       "\n",
       "[5 rows x 26 columns]"
      ]
     },
     "execution_count": 52,
     "metadata": {},
     "output_type": "execute_result"
    }
   ],
   "source": [
    "# Merge these attributes into the customers dataset \n",
    "customers = pd.merge(customers, cust_sex, on ='customer_id')\n",
    "customers.head()"
   ]
  },
  {
   "cell_type": "code",
   "execution_count": 53,
   "metadata": {},
   "outputs": [
    {
     "name": "stdout",
     "output_type": "stream",
     "text": [
      "(256139, 26)\n"
     ]
    }
   ],
   "source": [
    "print(customers.shape)"
   ]
  },
  {
   "cell_type": "code",
   "execution_count": 54,
   "metadata": {},
   "outputs": [
    {
     "name": "stdout",
     "output_type": "stream",
     "text": [
      "16.0 98.0\n"
     ]
    }
   ],
   "source": [
    "# Analysis on the age ranges\n",
    "print(customers[\"age\"].min(),customers[\"age\"].max())"
   ]
  },
  {
   "cell_type": "code",
   "execution_count": 55,
   "metadata": {},
   "outputs": [],
   "source": [
    "# NON FUNZIONA\n",
    "\n",
    "#customers.loc[customers['age'] >= 16 & customers['age'] < 36,customers['age']] = \"young adult\"\n",
    "#customers['age'] = customers['age'].astype(str)\n",
    "#print(customers.dtypes)\n",
    "#customers['age'] = customers['age'].mask(customers['age'] >= 66, \"senior\", inplace=True)\n",
    "#customers['age'] = customers['age'].mask((customers['age'] >= 16) & (customers['age'] < 36), \"young adult\", inplace=True)\n",
    "#customers['age'] = customers['age'].mask((customers['age'] >= 36) & (customers['age'] < 51), \"adult\", inplace=True)\n",
    "#customers['age'] = customers['age'].mask((customers['age'] >= 51) & (customers['age'] < 66), \"mid age adult\", inplace=True)\n",
    "#print(customers.head())"
   ]
  },
  {
   "cell_type": "code",
   "execution_count": 56,
   "metadata": {},
   "outputs": [],
   "source": [
    "# Replace continuous ages with discrete ages groups\n",
    "#ages_group = customers.query('age >= 16 & age < 36')\n",
    "#ages_group = ages_group.filter(['customer_id', 'age'])\n",
    "#ages_group.loc[(ages_group['age']>= 16) & (ages_group['age'] < 36) , 'age'] = 'young adult'\n",
    "\n",
    "#ages_group = customers.query('age >= 36 & age < 51')\n",
    "#ages_group = ages_group.filter(['customer_id', 'age'])\n",
    "#ages_group.loc[(ages_group['age']>= 36) & (ages_group['age'] < 51) , 'age'] = 'adult'\n",
    "\n",
    "#ages_group = customers.query('age >= 51 & age < 66')\n",
    "#ages_group = ages_group.filter(['customer_id', 'age'])\n",
    "#ages_group.loc[(ages_group['age']>= 51) & (ages_group['age'] < 66) , 'age'] = 'mid aged adult'\n",
    "\n",
    "#ages_group = customers.query('age >= 65')\n",
    "#ages_group = ages_group.filter(['customer_id', 'age'])\n",
    "#ages_group.loc[ages_group['age']>= 65 , 'age'] = 'senior'"
   ]
  },
  {
   "cell_type": "code",
   "execution_count": 57,
   "metadata": {},
   "outputs": [
    {
     "data": {
      "text/html": [
       "<div>\n",
       "<style scoped>\n",
       "    .dataframe tbody tr th:only-of-type {\n",
       "        vertical-align: middle;\n",
       "    }\n",
       "\n",
       "    .dataframe tbody tr th {\n",
       "        vertical-align: top;\n",
       "    }\n",
       "\n",
       "    .dataframe thead th {\n",
       "        text-align: right;\n",
       "    }\n",
       "</style>\n",
       "<table border=\"1\" class=\"dataframe\">\n",
       "  <thead>\n",
       "    <tr style=\"text-align: right;\">\n",
       "      <th></th>\n",
       "      <th>customer_id</th>\n",
       "      <th>FN</th>\n",
       "      <th>Active</th>\n",
       "      <th>club_member_status</th>\n",
       "      <th>fashion_news_frequency</th>\n",
       "      <th>age</th>\n",
       "      <th>postal_code</th>\n",
       "      <th>tot_articles_2018</th>\n",
       "      <th>tot_articles_2019</th>\n",
       "      <th>tot_articles_2020</th>\n",
       "      <th>...</th>\n",
       "      <th>tot_amount_2019</th>\n",
       "      <th>tot_amount_2020</th>\n",
       "      <th>avg_amount_2018</th>\n",
       "      <th>avg_amount_2019</th>\n",
       "      <th>avg_amount_2020</th>\n",
       "      <th>Woman</th>\n",
       "      <th>Young</th>\n",
       "      <th>Man</th>\n",
       "      <th>Have-kids</th>\n",
       "      <th>Sports-person</th>\n",
       "    </tr>\n",
       "  </thead>\n",
       "  <tbody>\n",
       "    <tr>\n",
       "      <th>0</th>\n",
       "      <td>00000dbacae5abe5e23885899a1fa44253a17956c6d1c3...</td>\n",
       "      <td>0.0</td>\n",
       "      <td>0.0</td>\n",
       "      <td>ACTIVE</td>\n",
       "      <td>None</td>\n",
       "      <td>49.0</td>\n",
       "      <td>52043ee2162cf5aa7ee79974281641c6f11a68d276429a...</td>\n",
       "      <td>3</td>\n",
       "      <td>12</td>\n",
       "      <td>6</td>\n",
       "      <td>...</td>\n",
       "      <td>0.394390</td>\n",
       "      <td>0.144475</td>\n",
       "      <td>0.036706</td>\n",
       "      <td>0.032866</td>\n",
       "      <td>0.016053</td>\n",
       "      <td>13.0</td>\n",
       "      <td>2.0</td>\n",
       "      <td>1.0</td>\n",
       "      <td>5.0</td>\n",
       "      <td>0.0</td>\n",
       "    </tr>\n",
       "    <tr>\n",
       "      <th>1</th>\n",
       "      <td>0000423b00ade91418cceaf3b26c6af3dd342b51fd051e...</td>\n",
       "      <td>0.0</td>\n",
       "      <td>0.0</td>\n",
       "      <td>ACTIVE</td>\n",
       "      <td>None</td>\n",
       "      <td>25.0</td>\n",
       "      <td>2973abc54daa8a5f8ccfe9362140c63247c5eee03f1d93...</td>\n",
       "      <td>8</td>\n",
       "      <td>44</td>\n",
       "      <td>34</td>\n",
       "      <td>...</td>\n",
       "      <td>1.473831</td>\n",
       "      <td>0.836712</td>\n",
       "      <td>0.097130</td>\n",
       "      <td>0.122819</td>\n",
       "      <td>0.092968</td>\n",
       "      <td>62.0</td>\n",
       "      <td>19.0</td>\n",
       "      <td>0.0</td>\n",
       "      <td>4.0</td>\n",
       "      <td>1.0</td>\n",
       "    </tr>\n",
       "    <tr>\n",
       "      <th>2</th>\n",
       "      <td>00006413d8573cd20ed7128e53b7b13819fe5cfc2d801f...</td>\n",
       "      <td>1.0</td>\n",
       "      <td>1.0</td>\n",
       "      <td>ACTIVE</td>\n",
       "      <td>Regularly</td>\n",
       "      <td>52.0</td>\n",
       "      <td>25fa5ddee9aac01b35208d01736e57942317d756b32ddd...</td>\n",
       "      <td>2</td>\n",
       "      <td>4</td>\n",
       "      <td>7</td>\n",
       "      <td>...</td>\n",
       "      <td>0.146119</td>\n",
       "      <td>0.255814</td>\n",
       "      <td>0.022588</td>\n",
       "      <td>0.012177</td>\n",
       "      <td>0.028424</td>\n",
       "      <td>11.0</td>\n",
       "      <td>0.0</td>\n",
       "      <td>0.0</td>\n",
       "      <td>0.0</td>\n",
       "      <td>2.0</td>\n",
       "    </tr>\n",
       "    <tr>\n",
       "      <th>3</th>\n",
       "      <td>00007d2de826758b65a93dd24ce629ed66842531df6699...</td>\n",
       "      <td>1.0</td>\n",
       "      <td>1.0</td>\n",
       "      <td>ACTIVE</td>\n",
       "      <td>Regularly</td>\n",
       "      <td>32.0</td>\n",
       "      <td>8d6f45050876d059c830a0fe63f1a4c022de279bb68ce3...</td>\n",
       "      <td>32</td>\n",
       "      <td>78</td>\n",
       "      <td>10</td>\n",
       "      <td>...</td>\n",
       "      <td>3.077203</td>\n",
       "      <td>0.174746</td>\n",
       "      <td>0.190554</td>\n",
       "      <td>0.256434</td>\n",
       "      <td>0.019416</td>\n",
       "      <td>84.0</td>\n",
       "      <td>34.0</td>\n",
       "      <td>0.0</td>\n",
       "      <td>0.0</td>\n",
       "      <td>2.0</td>\n",
       "    </tr>\n",
       "    <tr>\n",
       "      <th>4</th>\n",
       "      <td>00009d946eec3ea54add5ba56d5210ea898def4b46c685...</td>\n",
       "      <td>1.0</td>\n",
       "      <td>1.0</td>\n",
       "      <td>ACTIVE</td>\n",
       "      <td>Regularly</td>\n",
       "      <td>56.0</td>\n",
       "      <td>b31984b20a8c478de38eaf113c581ff64e63c4242e607b...</td>\n",
       "      <td>28</td>\n",
       "      <td>62</td>\n",
       "      <td>72</td>\n",
       "      <td>...</td>\n",
       "      <td>1.962356</td>\n",
       "      <td>2.113136</td>\n",
       "      <td>0.310695</td>\n",
       "      <td>0.163530</td>\n",
       "      <td>0.234793</td>\n",
       "      <td>79.0</td>\n",
       "      <td>28.0</td>\n",
       "      <td>52.0</td>\n",
       "      <td>0.0</td>\n",
       "      <td>3.0</td>\n",
       "    </tr>\n",
       "  </tbody>\n",
       "</table>\n",
       "<p>5 rows × 26 columns</p>\n",
       "</div>"
      ],
      "text/plain": [
       "                                         customer_id   FN  Active  \\\n",
       "0  00000dbacae5abe5e23885899a1fa44253a17956c6d1c3...  0.0     0.0   \n",
       "1  0000423b00ade91418cceaf3b26c6af3dd342b51fd051e...  0.0     0.0   \n",
       "2  00006413d8573cd20ed7128e53b7b13819fe5cfc2d801f...  1.0     1.0   \n",
       "3  00007d2de826758b65a93dd24ce629ed66842531df6699...  1.0     1.0   \n",
       "4  00009d946eec3ea54add5ba56d5210ea898def4b46c685...  1.0     1.0   \n",
       "\n",
       "  club_member_status fashion_news_frequency   age  \\\n",
       "0             ACTIVE                   None  49.0   \n",
       "1             ACTIVE                   None  25.0   \n",
       "2             ACTIVE              Regularly  52.0   \n",
       "3             ACTIVE              Regularly  32.0   \n",
       "4             ACTIVE              Regularly  56.0   \n",
       "\n",
       "                                         postal_code  tot_articles_2018  \\\n",
       "0  52043ee2162cf5aa7ee79974281641c6f11a68d276429a...                  3   \n",
       "1  2973abc54daa8a5f8ccfe9362140c63247c5eee03f1d93...                  8   \n",
       "2  25fa5ddee9aac01b35208d01736e57942317d756b32ddd...                  2   \n",
       "3  8d6f45050876d059c830a0fe63f1a4c022de279bb68ce3...                 32   \n",
       "4  b31984b20a8c478de38eaf113c581ff64e63c4242e607b...                 28   \n",
       "\n",
       "   tot_articles_2019  tot_articles_2020  ...  tot_amount_2019  \\\n",
       "0                 12                  6  ...         0.394390   \n",
       "1                 44                 34  ...         1.473831   \n",
       "2                  4                  7  ...         0.146119   \n",
       "3                 78                 10  ...         3.077203   \n",
       "4                 62                 72  ...         1.962356   \n",
       "\n",
       "   tot_amount_2020  avg_amount_2018  avg_amount_2019  avg_amount_2020  Woman  \\\n",
       "0         0.144475         0.036706         0.032866         0.016053   13.0   \n",
       "1         0.836712         0.097130         0.122819         0.092968   62.0   \n",
       "2         0.255814         0.022588         0.012177         0.028424   11.0   \n",
       "3         0.174746         0.190554         0.256434         0.019416   84.0   \n",
       "4         2.113136         0.310695         0.163530         0.234793   79.0   \n",
       "\n",
       "   Young   Man  Have-kids  Sports-person  \n",
       "0    2.0   1.0        5.0            0.0  \n",
       "1   19.0   0.0        4.0            1.0  \n",
       "2    0.0   0.0        0.0            2.0  \n",
       "3   34.0   0.0        0.0            2.0  \n",
       "4   28.0  52.0        0.0            3.0  \n",
       "\n",
       "[5 rows x 26 columns]"
      ]
     },
     "execution_count": 57,
     "metadata": {},
     "output_type": "execute_result"
    }
   ],
   "source": [
    "# Check ages before the transformation\n",
    "customers.head()"
   ]
  },
  {
   "cell_type": "code",
   "execution_count": 58,
   "metadata": {},
   "outputs": [],
   "source": [
    "# I assign a numeric category for each age range\n",
    "\n",
    "#customers.loc[(customers['age']>= 16) & (customers['age']< 36) , 'age'] = 1\n",
    "#customers.loc[(customers['age'] >= 36) & (customers['age'] < 51), 'age'] = 2\n",
    "#customers.loc[(customers['age'] >= 51) & (customers['age'] < 66) , 'age'] = 3\n",
    "#customers.loc[customers['age']>= 66, 'age'] = 4 "
   ]
  },
  {
   "cell_type": "code",
   "execution_count": 59,
   "metadata": {},
   "outputs": [
    {
     "data": {
      "text/html": [
       "<div>\n",
       "<style scoped>\n",
       "    .dataframe tbody tr th:only-of-type {\n",
       "        vertical-align: middle;\n",
       "    }\n",
       "\n",
       "    .dataframe tbody tr th {\n",
       "        vertical-align: top;\n",
       "    }\n",
       "\n",
       "    .dataframe thead th {\n",
       "        text-align: right;\n",
       "    }\n",
       "</style>\n",
       "<table border=\"1\" class=\"dataframe\">\n",
       "  <thead>\n",
       "    <tr style=\"text-align: right;\">\n",
       "      <th></th>\n",
       "      <th>customer_id</th>\n",
       "      <th>FN</th>\n",
       "      <th>Active</th>\n",
       "      <th>club_member_status</th>\n",
       "      <th>fashion_news_frequency</th>\n",
       "      <th>age</th>\n",
       "      <th>postal_code</th>\n",
       "      <th>tot_articles_2018</th>\n",
       "      <th>tot_articles_2019</th>\n",
       "      <th>tot_articles_2020</th>\n",
       "      <th>...</th>\n",
       "      <th>tot_amount_2019</th>\n",
       "      <th>tot_amount_2020</th>\n",
       "      <th>avg_amount_2018</th>\n",
       "      <th>avg_amount_2019</th>\n",
       "      <th>avg_amount_2020</th>\n",
       "      <th>Woman</th>\n",
       "      <th>Young</th>\n",
       "      <th>Man</th>\n",
       "      <th>Have-kids</th>\n",
       "      <th>Sports-person</th>\n",
       "    </tr>\n",
       "  </thead>\n",
       "  <tbody>\n",
       "    <tr>\n",
       "      <th>0</th>\n",
       "      <td>00000dbacae5abe5e23885899a1fa44253a17956c6d1c3...</td>\n",
       "      <td>0.0</td>\n",
       "      <td>0.0</td>\n",
       "      <td>ACTIVE</td>\n",
       "      <td>None</td>\n",
       "      <td>49.0</td>\n",
       "      <td>52043ee2162cf5aa7ee79974281641c6f11a68d276429a...</td>\n",
       "      <td>3</td>\n",
       "      <td>12</td>\n",
       "      <td>6</td>\n",
       "      <td>...</td>\n",
       "      <td>0.394390</td>\n",
       "      <td>0.144475</td>\n",
       "      <td>0.036706</td>\n",
       "      <td>0.032866</td>\n",
       "      <td>0.016053</td>\n",
       "      <td>13.0</td>\n",
       "      <td>2.0</td>\n",
       "      <td>1.0</td>\n",
       "      <td>5.0</td>\n",
       "      <td>0.0</td>\n",
       "    </tr>\n",
       "    <tr>\n",
       "      <th>1</th>\n",
       "      <td>0000423b00ade91418cceaf3b26c6af3dd342b51fd051e...</td>\n",
       "      <td>0.0</td>\n",
       "      <td>0.0</td>\n",
       "      <td>ACTIVE</td>\n",
       "      <td>None</td>\n",
       "      <td>25.0</td>\n",
       "      <td>2973abc54daa8a5f8ccfe9362140c63247c5eee03f1d93...</td>\n",
       "      <td>8</td>\n",
       "      <td>44</td>\n",
       "      <td>34</td>\n",
       "      <td>...</td>\n",
       "      <td>1.473831</td>\n",
       "      <td>0.836712</td>\n",
       "      <td>0.097130</td>\n",
       "      <td>0.122819</td>\n",
       "      <td>0.092968</td>\n",
       "      <td>62.0</td>\n",
       "      <td>19.0</td>\n",
       "      <td>0.0</td>\n",
       "      <td>4.0</td>\n",
       "      <td>1.0</td>\n",
       "    </tr>\n",
       "    <tr>\n",
       "      <th>2</th>\n",
       "      <td>00006413d8573cd20ed7128e53b7b13819fe5cfc2d801f...</td>\n",
       "      <td>1.0</td>\n",
       "      <td>1.0</td>\n",
       "      <td>ACTIVE</td>\n",
       "      <td>Regularly</td>\n",
       "      <td>52.0</td>\n",
       "      <td>25fa5ddee9aac01b35208d01736e57942317d756b32ddd...</td>\n",
       "      <td>2</td>\n",
       "      <td>4</td>\n",
       "      <td>7</td>\n",
       "      <td>...</td>\n",
       "      <td>0.146119</td>\n",
       "      <td>0.255814</td>\n",
       "      <td>0.022588</td>\n",
       "      <td>0.012177</td>\n",
       "      <td>0.028424</td>\n",
       "      <td>11.0</td>\n",
       "      <td>0.0</td>\n",
       "      <td>0.0</td>\n",
       "      <td>0.0</td>\n",
       "      <td>2.0</td>\n",
       "    </tr>\n",
       "    <tr>\n",
       "      <th>3</th>\n",
       "      <td>00007d2de826758b65a93dd24ce629ed66842531df6699...</td>\n",
       "      <td>1.0</td>\n",
       "      <td>1.0</td>\n",
       "      <td>ACTIVE</td>\n",
       "      <td>Regularly</td>\n",
       "      <td>32.0</td>\n",
       "      <td>8d6f45050876d059c830a0fe63f1a4c022de279bb68ce3...</td>\n",
       "      <td>32</td>\n",
       "      <td>78</td>\n",
       "      <td>10</td>\n",
       "      <td>...</td>\n",
       "      <td>3.077203</td>\n",
       "      <td>0.174746</td>\n",
       "      <td>0.190554</td>\n",
       "      <td>0.256434</td>\n",
       "      <td>0.019416</td>\n",
       "      <td>84.0</td>\n",
       "      <td>34.0</td>\n",
       "      <td>0.0</td>\n",
       "      <td>0.0</td>\n",
       "      <td>2.0</td>\n",
       "    </tr>\n",
       "    <tr>\n",
       "      <th>4</th>\n",
       "      <td>00009d946eec3ea54add5ba56d5210ea898def4b46c685...</td>\n",
       "      <td>1.0</td>\n",
       "      <td>1.0</td>\n",
       "      <td>ACTIVE</td>\n",
       "      <td>Regularly</td>\n",
       "      <td>56.0</td>\n",
       "      <td>b31984b20a8c478de38eaf113c581ff64e63c4242e607b...</td>\n",
       "      <td>28</td>\n",
       "      <td>62</td>\n",
       "      <td>72</td>\n",
       "      <td>...</td>\n",
       "      <td>1.962356</td>\n",
       "      <td>2.113136</td>\n",
       "      <td>0.310695</td>\n",
       "      <td>0.163530</td>\n",
       "      <td>0.234793</td>\n",
       "      <td>79.0</td>\n",
       "      <td>28.0</td>\n",
       "      <td>52.0</td>\n",
       "      <td>0.0</td>\n",
       "      <td>3.0</td>\n",
       "    </tr>\n",
       "  </tbody>\n",
       "</table>\n",
       "<p>5 rows × 26 columns</p>\n",
       "</div>"
      ],
      "text/plain": [
       "                                         customer_id   FN  Active  \\\n",
       "0  00000dbacae5abe5e23885899a1fa44253a17956c6d1c3...  0.0     0.0   \n",
       "1  0000423b00ade91418cceaf3b26c6af3dd342b51fd051e...  0.0     0.0   \n",
       "2  00006413d8573cd20ed7128e53b7b13819fe5cfc2d801f...  1.0     1.0   \n",
       "3  00007d2de826758b65a93dd24ce629ed66842531df6699...  1.0     1.0   \n",
       "4  00009d946eec3ea54add5ba56d5210ea898def4b46c685...  1.0     1.0   \n",
       "\n",
       "  club_member_status fashion_news_frequency   age  \\\n",
       "0             ACTIVE                   None  49.0   \n",
       "1             ACTIVE                   None  25.0   \n",
       "2             ACTIVE              Regularly  52.0   \n",
       "3             ACTIVE              Regularly  32.0   \n",
       "4             ACTIVE              Regularly  56.0   \n",
       "\n",
       "                                         postal_code  tot_articles_2018  \\\n",
       "0  52043ee2162cf5aa7ee79974281641c6f11a68d276429a...                  3   \n",
       "1  2973abc54daa8a5f8ccfe9362140c63247c5eee03f1d93...                  8   \n",
       "2  25fa5ddee9aac01b35208d01736e57942317d756b32ddd...                  2   \n",
       "3  8d6f45050876d059c830a0fe63f1a4c022de279bb68ce3...                 32   \n",
       "4  b31984b20a8c478de38eaf113c581ff64e63c4242e607b...                 28   \n",
       "\n",
       "   tot_articles_2019  tot_articles_2020  ...  tot_amount_2019  \\\n",
       "0                 12                  6  ...         0.394390   \n",
       "1                 44                 34  ...         1.473831   \n",
       "2                  4                  7  ...         0.146119   \n",
       "3                 78                 10  ...         3.077203   \n",
       "4                 62                 72  ...         1.962356   \n",
       "\n",
       "   tot_amount_2020  avg_amount_2018  avg_amount_2019  avg_amount_2020  Woman  \\\n",
       "0         0.144475         0.036706         0.032866         0.016053   13.0   \n",
       "1         0.836712         0.097130         0.122819         0.092968   62.0   \n",
       "2         0.255814         0.022588         0.012177         0.028424   11.0   \n",
       "3         0.174746         0.190554         0.256434         0.019416   84.0   \n",
       "4         2.113136         0.310695         0.163530         0.234793   79.0   \n",
       "\n",
       "   Young   Man  Have-kids  Sports-person  \n",
       "0    2.0   1.0        5.0            0.0  \n",
       "1   19.0   0.0        4.0            1.0  \n",
       "2    0.0   0.0        0.0            2.0  \n",
       "3   34.0   0.0        0.0            2.0  \n",
       "4   28.0  52.0        0.0            3.0  \n",
       "\n",
       "[5 rows x 26 columns]"
      ]
     },
     "execution_count": 59,
     "metadata": {},
     "output_type": "execute_result"
    }
   ],
   "source": [
    "# Check numeric categories\n",
    "customers.head()"
   ]
  },
  {
   "cell_type": "code",
   "execution_count": 60,
   "metadata": {},
   "outputs": [],
   "source": [
    "# I replace numeric categories with categorical attributes\n",
    "#customers['age'].replace({'young adult':1 },inplace=True)\n",
    "#customers['age'].replace({'adult': 2},inplace=True)\n",
    "#customers['age'].replace({'mid aged adult': 3},inplace=True)\n",
    "#customers['age'].replace({'senior':4 },inplace=True)"
   ]
  },
  {
   "cell_type": "code",
   "execution_count": 61,
   "metadata": {},
   "outputs": [],
   "source": [
    "# Drop postal code \n",
    "\n",
    "# I drop postal code because it doesn't tell us anything about the behaviour of the customer in the field of shopping. It's just a string\n",
    "customers= customers.drop('postal_code',1)"
   ]
  },
  {
   "cell_type": "code",
   "execution_count": 62,
   "metadata": {},
   "outputs": [],
   "source": [
    "# Need to find the garment and the color more purchased for each year\n",
    "transac_drop_df = pd.DataFrame(transactions[['customer_id', 'article_id', 't_dat']]).reset_index()\n",
    "articles_drop_df = pd.DataFrame(articles[['article_id', 'colour_group_code', 'garment_group_no', 'section_no']])"
   ]
  },
  {
   "cell_type": "code",
   "execution_count": 63,
   "metadata": {},
   "outputs": [
    {
     "name": "stdout",
     "output_type": "stream",
     "text": [
      "   index                                        customer_id  article_id  \\\n",
      "0      0  000058a12d5b43e67d225668fa1f8d618c13dc232df0ca...   663713001   \n",
      "1      1  000058a12d5b43e67d225668fa1f8d618c13dc232df0ca...   541518023   \n",
      "2      2  00007d2de826758b65a93dd24ce629ed66842531df6699...   505221004   \n",
      "3      3  00007d2de826758b65a93dd24ce629ed66842531df6699...   685687003   \n",
      "4      4  00007d2de826758b65a93dd24ce629ed66842531df6699...   685687004   \n",
      "\n",
      "        t_dat  colour_group_code  garment_group_no  section_no  \n",
      "0  2018-09-20                  9              1017          61  \n",
      "1  2018-09-20                 51              1017          61  \n",
      "2  2018-09-20                 52              1003          58  \n",
      "3  2018-09-20                 52              1023          15  \n",
      "4  2018-09-20                 93              1023          15  \n"
     ]
    }
   ],
   "source": [
    "articles_transactions =  pd.merge(transac_drop_df, articles_drop_df, on='article_id', how=\"left\")\n",
    "print(articles_transactions.head())"
   ]
  },
  {
   "cell_type": "code",
   "execution_count": 64,
   "metadata": {},
   "outputs": [
    {
     "name": "stdout",
     "output_type": "stream",
     "text": [
      "                                         customer_id   FN  Active  \\\n",
      "0  00000dbacae5abe5e23885899a1fa44253a17956c6d1c3...  0.0     0.0   \n",
      "1  0000423b00ade91418cceaf3b26c6af3dd342b51fd051e...  0.0     0.0   \n",
      "2  00006413d8573cd20ed7128e53b7b13819fe5cfc2d801f...  1.0     1.0   \n",
      "3  00007d2de826758b65a93dd24ce629ed66842531df6699...  1.0     1.0   \n",
      "4  00009d946eec3ea54add5ba56d5210ea898def4b46c685...  1.0     1.0   \n",
      "\n",
      "  club_member_status fashion_news_frequency   age  tot_articles_2018  \\\n",
      "0             ACTIVE                   None  49.0                  3   \n",
      "1             ACTIVE                   None  25.0                  8   \n",
      "2             ACTIVE              Regularly  52.0                  2   \n",
      "3             ACTIVE              Regularly  32.0                 32   \n",
      "4             ACTIVE              Regularly  56.0                 28   \n",
      "\n",
      "   tot_articles_2019  tot_articles_2020  avg_articles_2018  ...  \\\n",
      "0                 12                  6           1.000000  ...   \n",
      "1                 44                 34           2.666667  ...   \n",
      "2                  4                  7           0.666667  ...   \n",
      "3                 78                 10          10.666667  ...   \n",
      "4                 62                 72           9.333333  ...   \n",
      "\n",
      "   tot_amount_2020  avg_amount_2018  avg_amount_2019  avg_amount_2020  Woman  \\\n",
      "0         0.144475         0.036706         0.032866         0.016053   13.0   \n",
      "1         0.836712         0.097130         0.122819         0.092968   62.0   \n",
      "2         0.255814         0.022588         0.012177         0.028424   11.0   \n",
      "3         0.174746         0.190554         0.256434         0.019416   84.0   \n",
      "4         2.113136         0.310695         0.163530         0.234793   79.0   \n",
      "\n",
      "   Young   Man  Have-kids  Sports-person  count_colours_2018  \n",
      "0    2.0   1.0        5.0            0.0                   2  \n",
      "1   19.0   0.0        4.0            1.0                   3  \n",
      "2    0.0   0.0        0.0            2.0                   1  \n",
      "3   34.0   0.0        0.0            2.0                  13  \n",
      "4   28.0  52.0        0.0            3.0                  10  \n",
      "\n",
      "[5 rows x 26 columns]\n"
     ]
    }
   ],
   "source": [
    "# Need to find the counts for each colour\n",
    "## POSSIBLE COLOURS ARE 50, POSSIBLE GARMENTS ARE 21\n",
    "customer_articles_2018 = articles_transactions.query('t_dat < \"2019-01-01\"')\n",
    "customer_articles_2018 = customer_articles_2018.filter(['customer_id', 'colour_group_code'])\n",
    "customers = pd.merge(customers,customer_articles_2018.groupby('customer_id').nunique(), on='customer_id')\n",
    "customers.rename(columns = {'colour_group_code':'count_colours_2018'}, inplace = True)\n",
    "print(customers.head())"
   ]
  },
  {
   "cell_type": "code",
   "execution_count": 65,
   "metadata": {},
   "outputs": [
    {
     "name": "stdout",
     "output_type": "stream",
     "text": [
      "                                         customer_id   FN  Active  \\\n",
      "0  00000dbacae5abe5e23885899a1fa44253a17956c6d1c3...  0.0     0.0   \n",
      "1  0000423b00ade91418cceaf3b26c6af3dd342b51fd051e...  0.0     0.0   \n",
      "2  00006413d8573cd20ed7128e53b7b13819fe5cfc2d801f...  1.0     1.0   \n",
      "3  00007d2de826758b65a93dd24ce629ed66842531df6699...  1.0     1.0   \n",
      "4  00009d946eec3ea54add5ba56d5210ea898def4b46c685...  1.0     1.0   \n",
      "\n",
      "  club_member_status fashion_news_frequency   age  tot_articles_2018  \\\n",
      "0             ACTIVE                   None  49.0                  3   \n",
      "1             ACTIVE                   None  25.0                  8   \n",
      "2             ACTIVE              Regularly  52.0                  2   \n",
      "3             ACTIVE              Regularly  32.0                 32   \n",
      "4             ACTIVE              Regularly  56.0                 28   \n",
      "\n",
      "   tot_articles_2019  tot_articles_2020  avg_articles_2018  ...  \\\n",
      "0                 12                  6           1.000000  ...   \n",
      "1                 44                 34           2.666667  ...   \n",
      "2                  4                  7           0.666667  ...   \n",
      "3                 78                 10          10.666667  ...   \n",
      "4                 62                 72           9.333333  ...   \n",
      "\n",
      "   avg_amount_2018  avg_amount_2019  avg_amount_2020  Woman  Young   Man  \\\n",
      "0         0.036706         0.032866         0.016053   13.0    2.0   1.0   \n",
      "1         0.097130         0.122819         0.092968   62.0   19.0   0.0   \n",
      "2         0.022588         0.012177         0.028424   11.0    0.0   0.0   \n",
      "3         0.190554         0.256434         0.019416   84.0   34.0   0.0   \n",
      "4         0.310695         0.163530         0.234793   79.0   28.0  52.0   \n",
      "\n",
      "   Have-kids  Sports-person  count_colours_2018  count_colours_2019  \n",
      "0        5.0            0.0                   2                   2  \n",
      "1        4.0            1.0                   3                  16  \n",
      "2        0.0            2.0                   1                   2  \n",
      "3        0.0            2.0                  13                  22  \n",
      "4        0.0            3.0                  10                  15  \n",
      "\n",
      "[5 rows x 27 columns]\n"
     ]
    }
   ],
   "source": [
    "customer_articles_2019 = articles_transactions.query('t_dat < \"2020-01-01\" & t_dat>=\"2019-01-01\"')\n",
    "customer_articles_2019 = customer_articles_2019.filter(['customer_id', 'colour_group_code'])\n",
    "customers = pd.merge(customers,customer_articles_2019.groupby('customer_id').nunique(), on='customer_id')\n",
    "customers.rename(columns = {'colour_group_code':'count_colours_2019'}, inplace = True)\n",
    "print(customers.head())"
   ]
  },
  {
   "cell_type": "code",
   "execution_count": 66,
   "metadata": {},
   "outputs": [
    {
     "name": "stdout",
     "output_type": "stream",
     "text": [
      "                                         customer_id   FN  Active  \\\n",
      "0  00000dbacae5abe5e23885899a1fa44253a17956c6d1c3...  0.0     0.0   \n",
      "1  0000423b00ade91418cceaf3b26c6af3dd342b51fd051e...  0.0     0.0   \n",
      "2  00006413d8573cd20ed7128e53b7b13819fe5cfc2d801f...  1.0     1.0   \n",
      "3  00007d2de826758b65a93dd24ce629ed66842531df6699...  1.0     1.0   \n",
      "4  00009d946eec3ea54add5ba56d5210ea898def4b46c685...  1.0     1.0   \n",
      "\n",
      "  club_member_status fashion_news_frequency   age  tot_articles_2018  \\\n",
      "0             ACTIVE                   None  49.0                  3   \n",
      "1             ACTIVE                   None  25.0                  8   \n",
      "2             ACTIVE              Regularly  52.0                  2   \n",
      "3             ACTIVE              Regularly  32.0                 32   \n",
      "4             ACTIVE              Regularly  56.0                 28   \n",
      "\n",
      "   tot_articles_2019  tot_articles_2020  avg_articles_2018  ...  \\\n",
      "0                 12                  6           1.000000  ...   \n",
      "1                 44                 34           2.666667  ...   \n",
      "2                  4                  7           0.666667  ...   \n",
      "3                 78                 10          10.666667  ...   \n",
      "4                 62                 72           9.333333  ...   \n",
      "\n",
      "   avg_amount_2019  avg_amount_2020  Woman  Young   Man  Have-kids  \\\n",
      "0         0.032866         0.016053   13.0    2.0   1.0        5.0   \n",
      "1         0.122819         0.092968   62.0   19.0   0.0        4.0   \n",
      "2         0.012177         0.028424   11.0    0.0   0.0        0.0   \n",
      "3         0.256434         0.019416   84.0   34.0   0.0        0.0   \n",
      "4         0.163530         0.234793   79.0   28.0  52.0        0.0   \n",
      "\n",
      "   Sports-person  count_colours_2018  count_colours_2019  count_colours_2020  \n",
      "0            0.0                   2                   2                   5  \n",
      "1            1.0                   3                  16                   9  \n",
      "2            2.0                   1                   2                   3  \n",
      "3            2.0                  13                  22                   6  \n",
      "4            3.0                  10                  15                  16  \n",
      "\n",
      "[5 rows x 28 columns]\n"
     ]
    }
   ],
   "source": [
    "customer_articles_2020 = articles_transactions.query('t_dat >= \"2020-01-01\"')\n",
    "customer_articles_2020 = customer_articles_2020.filter(['customer_id', 'colour_group_code'])\n",
    "customers = pd.merge(customers,customer_articles_2020.groupby('customer_id').nunique(), on='customer_id')\n",
    "customers.rename(columns = {'colour_group_code':'count_colours_2020'}, inplace = True)\n",
    "print(customers.head())"
   ]
  },
  {
   "cell_type": "code",
   "execution_count": 67,
   "metadata": {},
   "outputs": [],
   "source": [
    "customer_garments_2018 = articles_transactions.query('t_dat < \"2019-01-01\"')\n",
    "customer_garments_2018 = customer_garments_2018.filter(['customer_id', 'garment_group_no'])\n",
    "customers = pd.merge(customers,customer_garments_2018.groupby('customer_id').nunique(), on='customer_id')\n",
    "customers.rename(columns = {'garment_group_no':'count_garments_2018'}, inplace = True)"
   ]
  },
  {
   "cell_type": "code",
   "execution_count": 68,
   "metadata": {},
   "outputs": [],
   "source": [
    "customer_garments_2019 = articles_transactions.query('t_dat < \"2020-01-01\" & t_dat>=\"2019-01-01\"')\n",
    "customer_garments_2019 = customer_garments_2019.filter(['customer_id', 'garment_group_no'])\n",
    "customers = pd.merge(customers,customer_garments_2019.groupby('customer_id').nunique(), on='customer_id')\n",
    "customers.rename(columns = {'garment_group_no':'count_garments_2019'}, inplace = True)"
   ]
  },
  {
   "cell_type": "code",
   "execution_count": 69,
   "metadata": {},
   "outputs": [],
   "source": [
    "customer_garments_2020 = articles_transactions.query('t_dat >= \"2020-01-01\"')\n",
    "customer_garments_2020 = customer_garments_2020.filter(['customer_id', 'garment_group_no'])\n",
    "customers = pd.merge(customers,customer_garments_2020.groupby('customer_id').nunique(), on='customer_id')\n",
    "customers.rename(columns = {'garment_group_no':'count_garments_2020'}, inplace = True)"
   ]
  },
  {
   "cell_type": "code",
   "execution_count": 70,
   "metadata": {},
   "outputs": [
    {
     "data": {
      "text/plain": [
       "'sex_category = articles[[\"index_group_no\", \"index_group_name\"]].reset_index()\\ndisplay(sex_category[\"index_group_name\"].value_counts())\\n\\n# We find the list of categories of articles and we plot the percentages of articles categories\\nsex_category_list = sex_category[\"index_group_name\"].value_counts().index.to_list()\\nplt.figure(figsize=(5, 5))\\nplt.rcParams[\"font.size\"] = 12\\nplt.pie(sex_category[\"index_group_name\"].value_counts().sort_values(ascending=False), \\n        labels = sex_category_list, startangle = 90, counterclock=False, autopct=\"%1.1f%%\")\\nplt.show\\n\\n\\n# I rename the index group as sex attribute\\narticles_category_df = pd.DataFrame(articles[[\"article_id\", \"index_group_no\"]])\\narticles_category_df.columns = [\"article_id\", \"sex_attribute\"]\\narticles_category_df\\n\\n\\n\\n# I merge these sex attributes with the dataframe customers_transactions\\ncustomers_transactions = pd.merge(customers_transactions, articles_category_df, on = \"article_id\", how = \"left\")\\n\\ncust_sex = customers_transactions[[\"customer_id\", \"sex_attribute\", \"article_id\"]].groupby([\"customer_id\",\"sex_attribute\"]).count().unstack()\\ncust_sex.columns = [\"Woman\", \"Young\", \"Man\", \"Have-kids\", \"Sports-person\"]\\n\\ncust_sex = cust_sex.fillna(0)\\n\\n# Merge these attributes into the customers dataset \\ncustomers = pd.merge(customers, cust_sex, on =\\'customer_id\\')\\ncustomers.head()'"
      ]
     },
     "execution_count": 70,
     "metadata": {},
     "output_type": "execute_result"
    }
   ],
   "source": [
    "'''sex_category = articles[[\"index_group_no\", \"index_group_name\"]].reset_index()\n",
    "display(sex_category[\"index_group_name\"].value_counts())\n",
    "\n",
    "# We find the list of categories of articles and we plot the percentages of articles categories\n",
    "sex_category_list = sex_category[\"index_group_name\"].value_counts().index.to_list()\n",
    "plt.figure(figsize=(5, 5))\n",
    "plt.rcParams[\"font.size\"] = 12\n",
    "plt.pie(sex_category[\"index_group_name\"].value_counts().sort_values(ascending=False), \n",
    "        labels = sex_category_list, startangle = 90, counterclock=False, autopct=\"%1.1f%%\")\n",
    "plt.show\n",
    "\n",
    "\n",
    "# I rename the index group as sex attribute\n",
    "articles_category_df = pd.DataFrame(articles[[\"article_id\", \"index_group_no\"]])\n",
    "articles_category_df.columns = [\"article_id\", \"sex_attribute\"]\n",
    "articles_category_df\n",
    "\n",
    "\n",
    "\n",
    "# I merge these sex attributes with the dataframe customers_transactions\n",
    "customers_transactions = pd.merge(customers_transactions, articles_category_df, on = \"article_id\", how = \"left\")\n",
    "\n",
    "cust_sex = customers_transactions[[\"customer_id\", \"sex_attribute\", \"article_id\"]].groupby([\"customer_id\",\"sex_attribute\"]).count().unstack()\n",
    "cust_sex.columns = [\"Woman\", \"Young\", \"Man\", \"Have-kids\", \"Sports-person\"]\n",
    "\n",
    "cust_sex = cust_sex.fillna(0)\n",
    "\n",
    "# Merge these attributes into the customers dataset \n",
    "customers = pd.merge(customers, cust_sex, on ='customer_id')\n",
    "customers.head()'''"
   ]
  },
  {
   "cell_type": "code",
   "execution_count": 71,
   "metadata": {},
   "outputs": [],
   "source": [
    "#customers_articles_2018 = customers_articles_2018.groupby(['customer_id'])['colour_group_code'].agg(pd.Series.mode).to_frame()\n",
    "\n",
    "# Find the mode of the most purchased color for 2018\n",
    "#customers_articles_2018 = articles_transactions.query('t_dat < \"2019-01-01\"')\n",
    "#customers_articles_2018 = customers_articles_2018.groupby(['customer_id'])['colour_group_code'].apply(lambda x: x.mode().iloc[0]).to_frame()\n",
    "#customers_articles_2018.rename(columns = {'colour_group_code':'top_colour_2018'}, inplace = True)\n",
    "#print(customers_articles_2018.head())\n"
   ]
  },
  {
   "cell_type": "code",
   "execution_count": 72,
   "metadata": {},
   "outputs": [],
   "source": [
    "# Find the mode of the most purchased color for 2019\n",
    "#customers_articles_2019 = articles_transactions.query('t_dat < \"2020-01-01\" & t_dat>=\"2019-01-01\"')\n",
    "#customers_articles_2019 = customers_articles_2019.groupby(['customer_id'])['colour_group_code'].apply(lambda x: x.mode().iloc[0]).to_frame()\n",
    "#customers_articles_2019.rename(columns = {'colour_group_code':'top_colour_2019'}, inplace = True)\n"
   ]
  },
  {
   "cell_type": "code",
   "execution_count": 73,
   "metadata": {},
   "outputs": [],
   "source": [
    "# Find the mode of the most purchased color for 2020\n",
    "#customers_articles_2020 = articles_transactions.query('t_dat >= \"2020-01-01\"')\n",
    "#customers_articles_2020 = customers_articles_2020.groupby(['customer_id'])['colour_group_code'].apply(lambda x: x.mode().iloc[0]).to_frame()\n",
    "#customers_articles_2020.rename(columns = {'colour_group_code':'top_colour_2020'}, inplace = True)\n"
   ]
  },
  {
   "cell_type": "code",
   "execution_count": 74,
   "metadata": {},
   "outputs": [],
   "source": [
    "# Merge these new df in the customers table\n",
    "#customers = pd.merge(customers, customers_articles_2018, on ='customer_id',how=\"left\")\n",
    "#customers = pd.merge(customers, customers_articles_2019, on ='customer_id',how=\"left\")\n",
    "#customers = pd.merge(customers, customers_articles_2020, on ='customer_id',how=\"left\")"
   ]
  },
  {
   "cell_type": "code",
   "execution_count": 75,
   "metadata": {},
   "outputs": [],
   "source": [
    "#print(customers.head())\n",
    "#print(customers.shape)"
   ]
  },
  {
   "cell_type": "code",
   "execution_count": 76,
   "metadata": {},
   "outputs": [],
   "source": [
    "#print(customers['top_colour_2019'].unique())\n",
    "\n",
    "#print(articles[articles['colour_group_code']== -1])"
   ]
  },
  {
   "cell_type": "code",
   "execution_count": 77,
   "metadata": {},
   "outputs": [],
   "source": [
    "# Find the mode of the most purchased garment for 2018\n",
    "#customers_garments_2018 = articles_transactions.query('t_dat < \"2019-01-01\"')\n",
    "#customers_garments_2018 = customers_garments_2018.groupby(['customer_id'])['garment_group_no'].apply(lambda x: x.mode().iloc[0]).to_frame()\n",
    "#customers_garments_2018.rename(columns = {'garment_group_no':'top_garment_2018'}, inplace = True)"
   ]
  },
  {
   "cell_type": "code",
   "execution_count": 78,
   "metadata": {},
   "outputs": [],
   "source": [
    "# Find the mode of the most purchased garment for 2019\n",
    "#customers_garment_2019 = articles_transactions.query('t_dat < \"2020-01-01\" & t_dat>=\"2019-01-01\"')\n",
    "#customers_garment_2019 = customers_garment_2019.groupby(['customer_id'])['garment_group_no'].apply(lambda x: x.mode().iloc[0]).to_frame()\n",
    "#customers_garment_2019.rename(columns = {'garment_group_no':'top_garment_2019'}, inplace = True)"
   ]
  },
  {
   "cell_type": "code",
   "execution_count": 79,
   "metadata": {},
   "outputs": [],
   "source": [
    "# Find the mode of the most purchased garment for 2020\n",
    "#customers_garment_2020 = articles_transactions.query('t_dat >= \"2020-01-01\"')\n",
    "#customers_garment_2020 = customers_garment_2020.groupby(['customer_id'])['garment_group_no'].apply(lambda x: x.mode().iloc[0]).to_frame()\n",
    "#customers_garment_2020.rename(columns = {'garment_group_no':'top_garment_2020'}, inplace = True)"
   ]
  },
  {
   "cell_type": "code",
   "execution_count": 80,
   "metadata": {},
   "outputs": [],
   "source": [
    "# Merge these new df in the customers table\n",
    "#customers = pd.merge(customers, customers_garments_2018, on ='customer_id',how=\"left\")\n",
    "#customers = pd.merge(customers, customers_garment_2019, on ='customer_id',how=\"left\")\n",
    "#customers = pd.merge(customers, customers_garment_2020, on ='customer_id',how=\"left\")\n",
    "#print(customers.head())"
   ]
  },
  {
   "cell_type": "code",
   "execution_count": 81,
   "metadata": {},
   "outputs": [
    {
     "name": "stdout",
     "output_type": "stream",
     "text": [
      "(256139, 31)\n"
     ]
    }
   ],
   "source": [
    "print(customers.shape)"
   ]
  },
  {
   "cell_type": "code",
   "execution_count": 82,
   "metadata": {},
   "outputs": [],
   "source": [
    "# Find the mode of the most visited section for 2018\n",
    "#customers_section_2018 = articles_transactions.query('t_dat < \"2019-01-01\"')\n",
    "#customers_section_2018 = customers_section_2018.groupby(['customer_id'])['section_no'].apply(lambda x: x.mode().iloc[0]).to_frame()\n",
    "#customers_section_2018.rename(columns = {'section_no':'top_section_2018'}, inplace = True)"
   ]
  },
  {
   "cell_type": "code",
   "execution_count": 83,
   "metadata": {},
   "outputs": [],
   "source": [
    "# Find the mode of the most visited section for 2019\n",
    "#customers_section_2019 = articles_transactions.query('t_dat < \"2020-01-01\" & t_dat>=\"2019-01-01\"')\n",
    "#customers_section_2019 = customers_section_2019.groupby(['customer_id'])['section_no'].apply(lambda x: x.mode().iloc[0]).to_frame()\n",
    "#customers_section_2019.rename(columns = {'section_no':'top_section_2019'}, inplace = True)"
   ]
  },
  {
   "cell_type": "code",
   "execution_count": 84,
   "metadata": {},
   "outputs": [],
   "source": [
    "# Find the mode of the most visited section for 2020\n",
    "#customers_section_2020 = articles_transactions.query('t_dat >= \"2020-01-01\"')\n",
    "#customers_section_2020 = customers_section_2020.groupby(['customer_id'])['section_no'].apply(lambda x: x.mode().iloc[0]).to_frame()\n",
    "#customers_section_2020.rename(columns = {'section_no':'top_section_2020'}, inplace = True)"
   ]
  },
  {
   "cell_type": "code",
   "execution_count": 85,
   "metadata": {},
   "outputs": [],
   "source": [
    "#customers = pd.merge(customers, customers_section_2018, on ='customer_id',how=\"left\")\n",
    "#customers = pd.merge(customers, customers_section_2019, on ='customer_id',how=\"left\")\n",
    "#customers = pd.merge(customers, customers_section_2020, on ='customer_id',how=\"left\")\n",
    "#print(customers.head())"
   ]
  },
  {
   "cell_type": "code",
   "execution_count": 86,
   "metadata": {},
   "outputs": [],
   "source": [
    "#customers.to_csv(\"customers_complete_numeric.csv\")"
   ]
  },
  {
   "cell_type": "code",
   "execution_count": 87,
   "metadata": {},
   "outputs": [],
   "source": [
    "# Replace names\n",
    "# I replace numeric categories with categorical attributes\n",
    "#customers['club_member_status'].replace({'ACTIVE':1 },inplace=True)\n",
    "#customers['club_member_status'].replace({'PRE-CREATE':2},inplace=True)\n",
    "#customers['club_member_status'].replace({'LEFT CLUB':0},inplace=True)\n",
    "\n",
    "#customers['fashion_news_frequency'].replace({'None': 0},inplace=True)\n",
    "#customers['fashion_news_frequency'].replace({'Regularly': 1},inplace=True)\n",
    "#customers['fashion_news_frequency'].replace({'Monthly':2 },inplace=True)"
   ]
  },
  {
   "cell_type": "code",
   "execution_count": 88,
   "metadata": {},
   "outputs": [],
   "source": [
    "#customers.to_csv(\"customers_complete_numeric.csv\")"
   ]
  },
  {
   "cell_type": "code",
   "execution_count": 89,
   "metadata": {},
   "outputs": [
    {
     "name": "stdout",
     "output_type": "stream",
     "text": [
      "[0. 1.] [0. 1.] ['ACTIVE' 'PRE-CREATE' 'LEFT CLUB'] ['None' 'Regularly' 'Monthly']\n"
     ]
    }
   ],
   "source": [
    "print(customers['Active'].unique(), customers['FN'].unique(), customers['club_member_status'].unique(),customers['fashion_news_frequency'].unique() )"
   ]
  },
  {
   "cell_type": "code",
   "execution_count": 90,
   "metadata": {},
   "outputs": [],
   "source": [
    "# I would drop FN because only 84 customers (0.03%) that have fashion_news_frequency==None have FN==1, but I don't\n",
    "#rslt_df = customers['fashion_news_frequency'][customers['FN'] == 1]\n",
    "#print(rslt_df[rslt_df == 'None'].count())\n",
    "#print(customers.shape)"
   ]
  },
  {
   "cell_type": "code",
   "execution_count": 91,
   "metadata": {},
   "outputs": [
    {
     "name": "stdout",
     "output_type": "stream",
     "text": [
      "customer_id                object\n",
      "FN                        float64\n",
      "Active                    float64\n",
      "club_member_status         object\n",
      "fashion_news_frequency     object\n",
      "age                       float64\n",
      "tot_articles_2018           int64\n",
      "tot_articles_2019           int64\n",
      "tot_articles_2020           int64\n",
      "avg_articles_2018         float64\n",
      "avg_articles_2019         float64\n",
      "avg_articles_2020         float64\n",
      "sales_channel_1             int64\n",
      "sales_channel_2             int64\n",
      "tot_amount_2018           float64\n",
      "tot_amount_2019           float64\n",
      "tot_amount_2020           float64\n",
      "avg_amount_2018           float64\n",
      "avg_amount_2019           float64\n",
      "avg_amount_2020           float64\n",
      "Woman                     float64\n",
      "Young                     float64\n",
      "Man                       float64\n",
      "Have-kids                 float64\n",
      "Sports-person             float64\n",
      "count_colours_2018          int64\n",
      "count_colours_2019          int64\n",
      "count_colours_2020          int64\n",
      "count_garments_2018         int64\n",
      "count_garments_2019         int64\n",
      "count_garments_2020         int64\n",
      "dtype: object\n"
     ]
    }
   ],
   "source": [
    "print(customers.dtypes)"
   ]
  },
  {
   "cell_type": "code",
   "execution_count": 92,
   "metadata": {},
   "outputs": [
    {
     "name": "stdout",
     "output_type": "stream",
     "text": [
      "['age', 'tot_articles_2018', 'tot_articles_2019', 'tot_articles_2020', 'avg_articles_2018', 'avg_articles_2019', 'avg_articles_2020', 'sales_channel_1', 'sales_channel_2', 'tot_amount_2018', 'tot_amount_2019', 'tot_amount_2020', 'avg_amount_2018', 'avg_amount_2019', 'avg_amount_2020', 'Woman', 'Young', 'Man', 'Have-kids', 'Sports-person', 'count_colours_2018', 'count_colours_2019', 'count_colours_2020', 'count_garments_2018', 'count_garments_2019', 'count_garments_2020']\n"
     ]
    }
   ],
   "source": [
    "# Perform z-score normalization on variables that are not one hot encoded\n",
    "\n",
    "cols = customers.columns\n",
    "cols = cols.drop(\"customer_id\", 1)\n",
    "cols = cols.drop(\"fashion_news_frequency\", 1)\n",
    "cols = cols.drop(\"FN\", 1)\n",
    "cols = cols.drop(\"club_member_status\", 1)\n",
    "cols = cols.drop(\"Active\", 1)\n",
    "cols=list(cols)\n",
    "print(cols)\n",
    "\n",
    "# now iterate over the remaining columns and create a new zscore column\n",
    "for col in cols:\n",
    "    col_zscore = col + '_zscore'\n",
    "    customers[col_zscore] = (customers[col] - customers[col].mean())/customers[col].std(ddof=0)"
   ]
  },
  {
   "cell_type": "code",
   "execution_count": 93,
   "metadata": {},
   "outputs": [],
   "source": [
    "# drop columns that are not normalized\n",
    "for col in cols:\n",
    "    if '_zscore' not in col:\n",
    "        customers = customers.drop(col, 1)\n",
    "    else:\n",
    "        print('')"
   ]
  },
  {
   "cell_type": "code",
   "execution_count": 94,
   "metadata": {},
   "outputs": [],
   "source": [
    "# One hot encoding of Active variable\n",
    "\n",
    "df = pd.DataFrame(list(zip(customers['customer_id'], customers['Active'].unique())),\n",
    "                  columns=['customer_id', 'Active'])\n",
    "\n",
    "y = pd.get_dummies(customers['Active'], prefix='')\n",
    "y.rename(columns = {'_0.0':'Non-Active'}, inplace = True)\n",
    "y.rename(columns = {'_1.0':'Active'}, inplace = True)\n",
    "y = y.astype({\"Active\": \"float64\"}, errors='raise') \n",
    "y = y.astype({\"Non-Active\": \"float64\"}, errors='raise') \n",
    "y.insert(0, 'customer_id', customers['customer_id'])\n",
    "\n",
    "customers = customers.drop(\"Active\", 1)\n",
    "customers = pd.merge(customers, y, on='customer_id', how ='left')\n"
   ]
  },
  {
   "cell_type": "code",
   "execution_count": 95,
   "metadata": {},
   "outputs": [
    {
     "name": "stdout",
     "output_type": "stream",
     "text": [
      "                                         customer_id club_member_status  \\\n",
      "0  00000dbacae5abe5e23885899a1fa44253a17956c6d1c3...             ACTIVE   \n",
      "1  0000423b00ade91418cceaf3b26c6af3dd342b51fd051e...             ACTIVE   \n",
      "2  00006413d8573cd20ed7128e53b7b13819fe5cfc2d801f...             ACTIVE   \n",
      "3  00007d2de826758b65a93dd24ce629ed66842531df6699...             ACTIVE   \n",
      "4  00009d946eec3ea54add5ba56d5210ea898def4b46c685...             ACTIVE   \n",
      "\n",
      "  fashion_news_frequency  age_zscore  tot_articles_2018_zscore  \\\n",
      "0                   None    1.069614                 -0.609450   \n",
      "1                   None   -0.786758                 -0.166628   \n",
      "2              Regularly    1.301661                 -0.698014   \n",
      "3              Regularly   -0.245316                  1.958918   \n",
      "4              Regularly    1.611056                  1.604661   \n",
      "\n",
      "   tot_articles_2019_zscore  tot_articles_2020_zscore  \\\n",
      "0                 -0.614628                 -0.629011   \n",
      "1                  0.298112                  0.529984   \n",
      "2                 -0.842813                 -0.587619   \n",
      "3                  1.267898                 -0.463441   \n",
      "4                  0.811528                  2.102905   \n",
      "\n",
      "   avg_articles_2018_zscore  avg_articles_2019_zscore  \\\n",
      "0                 -0.609450                 -0.614628   \n",
      "1                 -0.166628                  0.298112   \n",
      "2                 -0.698014                 -0.842813   \n",
      "3                  1.958918                  1.267898   \n",
      "4                  1.604661                  0.811528   \n",
      "\n",
      "   avg_articles_2020_zscore  ...  count_colours_2018_zscore  \\\n",
      "0                 -0.629011  ...                  -0.764257   \n",
      "1                  0.529984  ...                  -0.463651   \n",
      "2                 -0.587619  ...                  -1.064862   \n",
      "3                 -0.463441  ...                   2.542401   \n",
      "4                  2.102905  ...                   1.640585   \n",
      "\n",
      "   count_colours_2019_zscore  count_colours_2020_zscore  \\\n",
      "0                  -1.423813                  -0.544629   \n",
      "1                   0.970217                   0.223675   \n",
      "2                  -1.423813                  -0.928781   \n",
      "3                   1.996230                  -0.352553   \n",
      "4                   0.799215                   1.568207   \n",
      "\n",
      "   count_garments_2018_zscore  count_garments_2019_zscore  \\\n",
      "0                   -1.163257                   -0.114637   \n",
      "1                   -0.074347                    1.159055   \n",
      "2                   -0.800287                   -1.643066   \n",
      "3                    2.466442                    1.159055   \n",
      "4                    1.014563                    0.649578   \n",
      "\n",
      "   count_garments_2020_zscore  Non-Active  Active  FN_no  FN_yes  \n",
      "0                   -0.917254         1.0     0.0    1.0     0.0  \n",
      "1                    0.465264         1.0     0.0    1.0     0.0  \n",
      "2                   -0.917254         0.0     1.0    0.0     1.0  \n",
      "3                   -0.640751         0.0     1.0    0.0     1.0  \n",
      "4                    1.294775         0.0     1.0    0.0     1.0  \n",
      "\n",
      "[5 rows x 33 columns]\n"
     ]
    }
   ],
   "source": [
    "# One hot encoding of FN variable\n",
    "\n",
    "df = pd.DataFrame(list(zip(customers['customer_id'], customers['FN'].unique())),\n",
    "                  columns=['customer_id', 'FN'])\n",
    "\n",
    "y = pd.get_dummies(customers['FN'], prefix='')\n",
    "y.rename(columns = {'_0.0':'FN_no'}, inplace = True)\n",
    "y.rename(columns = {'_1.0':'FN_yes'}, inplace = True)\n",
    "y = y.astype({\"FN_yes\": \"float64\"}, errors='raise') \n",
    "y = y.astype({\"FN_no\": \"float64\"}, errors='raise') \n",
    "y.insert(0, 'customer_id', customers['customer_id'])\n",
    "\n",
    "customers = customers.drop(\"FN\", 1)\n",
    "customers = pd.merge(customers, y, on='customer_id', how ='left')\n",
    "print(customers.head())"
   ]
  },
  {
   "cell_type": "code",
   "execution_count": 96,
   "metadata": {},
   "outputs": [
    {
     "name": "stdout",
     "output_type": "stream",
     "text": [
      "                                         customer_id fashion_news_frequency  \\\n",
      "0  00000dbacae5abe5e23885899a1fa44253a17956c6d1c3...                   None   \n",
      "1  0000423b00ade91418cceaf3b26c6af3dd342b51fd051e...                   None   \n",
      "2  00006413d8573cd20ed7128e53b7b13819fe5cfc2d801f...              Regularly   \n",
      "3  00007d2de826758b65a93dd24ce629ed66842531df6699...              Regularly   \n",
      "4  00009d946eec3ea54add5ba56d5210ea898def4b46c685...              Regularly   \n",
      "\n",
      "   age_zscore  tot_articles_2018_zscore  tot_articles_2019_zscore  \\\n",
      "0    1.069614                 -0.609450                 -0.614628   \n",
      "1   -0.786758                 -0.166628                  0.298112   \n",
      "2    1.301661                 -0.698014                 -0.842813   \n",
      "3   -0.245316                  1.958918                  1.267898   \n",
      "4    1.611056                  1.604661                  0.811528   \n",
      "\n",
      "   tot_articles_2020_zscore  avg_articles_2018_zscore  \\\n",
      "0                 -0.629011                 -0.609450   \n",
      "1                  0.529984                 -0.166628   \n",
      "2                 -0.587619                 -0.698014   \n",
      "3                 -0.463441                  1.958918   \n",
      "4                  2.102905                  1.604661   \n",
      "\n",
      "   avg_articles_2019_zscore  avg_articles_2020_zscore  sales_channel_1_zscore  \\\n",
      "0                 -0.614628                 -0.629011               -0.544905   \n",
      "1                  0.298112                  0.529984               -0.739161   \n",
      "2                 -0.842813                 -0.587619               -0.884853   \n",
      "3                  1.267898                 -0.463441               -0.836289   \n",
      "4                  0.811528                  2.102905               -0.933417   \n",
      "\n",
      "   ...  count_garments_2018_zscore  count_garments_2019_zscore  \\\n",
      "0  ...                   -1.163257                   -0.114637   \n",
      "1  ...                   -0.074347                    1.159055   \n",
      "2  ...                   -0.800287                   -1.643066   \n",
      "3  ...                    2.466442                    1.159055   \n",
      "4  ...                    1.014563                    0.649578   \n",
      "\n",
      "   count_garments_2020_zscore  Non-Active  Active  FN_no  FN_yes  \\\n",
      "0                   -0.917254         1.0     0.0    1.0     0.0   \n",
      "1                    0.465264         1.0     0.0    1.0     0.0   \n",
      "2                   -0.917254         0.0     1.0    0.0     1.0   \n",
      "3                   -0.640751         0.0     1.0    0.0     1.0   \n",
      "4                    1.294775         0.0     1.0    0.0     1.0   \n",
      "\n",
      "   club_status_active  club_status_leftclub  club_status_precreate  \n",
      "0                 1.0                   0.0                    0.0  \n",
      "1                 1.0                   0.0                    0.0  \n",
      "2                 1.0                   0.0                    0.0  \n",
      "3                 1.0                   0.0                    0.0  \n",
      "4                 1.0                   0.0                    0.0  \n",
      "\n",
      "[5 rows x 35 columns]\n"
     ]
    }
   ],
   "source": [
    "# One hot encoding of club_member_status variable\n",
    "\n",
    "df = pd.DataFrame(list(zip(customers['customer_id'], customers['club_member_status'].unique())),\n",
    "                  columns=['customer_id', 'club_member_status'])\n",
    "\n",
    "y = pd.get_dummies(customers['club_member_status'], prefix='')\n",
    "y.rename(columns = {'_ACTIVE':'club_status_active'}, inplace = True)\n",
    "y.rename(columns = {'_PRE-CREATE':'club_status_precreate'}, inplace = True)\n",
    "y.rename(columns = {'_LEFT CLUB':'club_status_leftclub'}, inplace = True)\n",
    "y = y.astype({\"club_status_active\": \"float64\"}, errors='raise') \n",
    "y = y.astype({\"club_status_precreate\": \"float64\"}, errors='raise')\n",
    "y = y.astype({\"club_status_leftclub\": \"float64\"}, errors='raise') \n",
    "y.insert(0, 'customer_id', customers['customer_id'])\n",
    "\n",
    "customers = customers.drop(\"club_member_status\", 1)\n",
    "customers = pd.merge(customers, y, on='customer_id', how ='left')\n",
    "print(customers.head())"
   ]
  },
  {
   "cell_type": "code",
   "execution_count": 97,
   "metadata": {},
   "outputs": [
    {
     "name": "stdout",
     "output_type": "stream",
     "text": [
      "                                         customer_id  age_zscore  \\\n",
      "0  00000dbacae5abe5e23885899a1fa44253a17956c6d1c3...    1.069614   \n",
      "1  0000423b00ade91418cceaf3b26c6af3dd342b51fd051e...   -0.786758   \n",
      "2  00006413d8573cd20ed7128e53b7b13819fe5cfc2d801f...    1.301661   \n",
      "3  00007d2de826758b65a93dd24ce629ed66842531df6699...   -0.245316   \n",
      "4  00009d946eec3ea54add5ba56d5210ea898def4b46c685...    1.611056   \n",
      "\n",
      "   tot_articles_2018_zscore  tot_articles_2019_zscore  \\\n",
      "0                 -0.609450                 -0.614628   \n",
      "1                 -0.166628                  0.298112   \n",
      "2                 -0.698014                 -0.842813   \n",
      "3                  1.958918                  1.267898   \n",
      "4                  1.604661                  0.811528   \n",
      "\n",
      "   tot_articles_2020_zscore  avg_articles_2018_zscore  \\\n",
      "0                 -0.629011                 -0.609450   \n",
      "1                  0.529984                 -0.166628   \n",
      "2                 -0.587619                 -0.698014   \n",
      "3                 -0.463441                  1.958918   \n",
      "4                  2.102905                  1.604661   \n",
      "\n",
      "   avg_articles_2019_zscore  avg_articles_2020_zscore  sales_channel_1_zscore  \\\n",
      "0                 -0.614628                 -0.629011               -0.544905   \n",
      "1                  0.298112                  0.529984               -0.739161   \n",
      "2                 -0.842813                 -0.587619               -0.884853   \n",
      "3                  1.267898                 -0.463441               -0.836289   \n",
      "4                  0.811528                  2.102905               -0.933417   \n",
      "\n",
      "   sales_channel_2_zscore  ...  Non-Active  Active  FN_no  FN_yes  \\\n",
      "0               -0.561225  ...         1.0     0.0    1.0     0.0   \n",
      "1                0.633767  ...         1.0     0.0    1.0     0.0   \n",
      "2               -0.578544  ...         0.0     1.0    0.0     1.0   \n",
      "3                1.257241  ...         0.0     1.0    0.0     1.0   \n",
      "4                2.019264  ...         0.0     1.0    0.0     1.0   \n",
      "\n",
      "   club_status_active  club_status_leftclub  club_status_precreate  \\\n",
      "0                 1.0                   0.0                    0.0   \n",
      "1                 1.0                   0.0                    0.0   \n",
      "2                 1.0                   0.0                    0.0   \n",
      "3                 1.0                   0.0                    0.0   \n",
      "4                 1.0                   0.0                    0.0   \n",
      "\n",
      "   fn_frequency_monthly  fn_frequency_none  fn_frequency_regularly  \n",
      "0                   0.0                1.0                     0.0  \n",
      "1                   0.0                1.0                     0.0  \n",
      "2                   0.0                0.0                     1.0  \n",
      "3                   0.0                0.0                     1.0  \n",
      "4                   0.0                0.0                     1.0  \n",
      "\n",
      "[5 rows x 37 columns]\n"
     ]
    }
   ],
   "source": [
    "# One hot encoding of fashion_news_frequency variable\n",
    "\n",
    "df = pd.DataFrame(list(zip(customers['customer_id'], customers['fashion_news_frequency'].unique())),\n",
    "                  columns=['customer_id', 'fashion_news_frequency'])\n",
    "\n",
    "y = pd.get_dummies(customers['fashion_news_frequency'], prefix='')\n",
    "y.rename(columns = {'_None':'fn_frequency_none'}, inplace = True)\n",
    "y.rename(columns = {'_Regularly':'fn_frequency_regularly'}, inplace = True)\n",
    "y.rename(columns = {'_Monthly':'fn_frequency_monthly'}, inplace = True)\n",
    "y = y.astype({\"fn_frequency_none\": \"float64\"}, errors='raise') \n",
    "y = y.astype({\"fn_frequency_regularly\": \"float64\"}, errors='raise') \n",
    "y = y.astype({\"fn_frequency_monthly\": \"float64\"}, errors='raise') \n",
    "y.insert(0, 'customer_id', customers['customer_id'])\n",
    "\n",
    "customers = customers.drop(\"fashion_news_frequency\", 1)\n",
    "customers = pd.merge(customers, y, on='customer_id', how ='left')\n",
    "print(customers.head())"
   ]
  },
  {
   "cell_type": "code",
   "execution_count": 98,
   "metadata": {},
   "outputs": [
    {
     "name": "stdout",
     "output_type": "stream",
     "text": [
      "customer_id                    object\n",
      "age_zscore                    float64\n",
      "tot_articles_2018_zscore      float64\n",
      "tot_articles_2019_zscore      float64\n",
      "tot_articles_2020_zscore      float64\n",
      "avg_articles_2018_zscore      float64\n",
      "avg_articles_2019_zscore      float64\n",
      "avg_articles_2020_zscore      float64\n",
      "sales_channel_1_zscore        float64\n",
      "sales_channel_2_zscore        float64\n",
      "tot_amount_2018_zscore        float64\n",
      "tot_amount_2019_zscore        float64\n",
      "tot_amount_2020_zscore        float64\n",
      "avg_amount_2018_zscore        float64\n",
      "avg_amount_2019_zscore        float64\n",
      "avg_amount_2020_zscore        float64\n",
      "Woman_zscore                  float64\n",
      "Young_zscore                  float64\n",
      "Man_zscore                    float64\n",
      "Have-kids_zscore              float64\n",
      "Sports-person_zscore          float64\n",
      "count_colours_2018_zscore     float64\n",
      "count_colours_2019_zscore     float64\n",
      "count_colours_2020_zscore     float64\n",
      "count_garments_2018_zscore    float64\n",
      "count_garments_2019_zscore    float64\n",
      "count_garments_2020_zscore    float64\n",
      "Non-Active                    float64\n",
      "Active                        float64\n",
      "FN_no                         float64\n",
      "FN_yes                        float64\n",
      "club_status_active            float64\n",
      "club_status_leftclub          float64\n",
      "club_status_precreate         float64\n",
      "fn_frequency_monthly          float64\n",
      "fn_frequency_none             float64\n",
      "fn_frequency_regularly        float64\n",
      "dtype: object\n"
     ]
    }
   ],
   "source": [
    "print(customers.dtypes)"
   ]
  },
  {
   "cell_type": "code",
   "execution_count": 99,
   "metadata": {},
   "outputs": [],
   "source": [
    "customers.to_csv(\"customers_numeric.csv\")"
   ]
  },
  {
   "cell_type": "code",
   "execution_count": 101,
   "metadata": {},
   "outputs": [
    {
     "name": "stdout",
     "output_type": "stream",
     "text": [
      "-1.125967391391142e-16\n",
      "1.0000019520709669\n"
     ]
    }
   ],
   "source": [
    "mean = statistics.fmean(customers[\"age_zscore\"])\n",
    "print(mean)\n",
    "stdev = statistics.stdev(customers[\"age_zscore\"])\n",
    "print(stdev)\n",
    "#variance = statistics.variance(transactions[\"price\"])\n",
    "#print(variance)\n",
    "#norm = ln.norm(transactions[\"price\"])\n",
    "#print(norm)"
   ]
  },
  {
   "cell_type": "code",
   "execution_count": 102,
   "metadata": {},
   "outputs": [],
   "source": [
    "customers = customers.drop(\"customer_id\", 1)"
   ]
  },
  {
   "cell_type": "code",
   "execution_count": 103,
   "metadata": {},
   "outputs": [
    {
     "name": "stdout",
     "output_type": "stream",
     "text": [
      "   age_zscore  tot_articles_2018_zscore  tot_articles_2019_zscore  \\\n",
      "0    1.069614                 -0.609450                 -0.614628   \n",
      "1   -0.786758                 -0.166628                  0.298112   \n",
      "2    1.301661                 -0.698014                 -0.842813   \n",
      "3   -0.245316                  1.958918                  1.267898   \n",
      "4    1.611056                  1.604661                  0.811528   \n",
      "\n",
      "   tot_articles_2020_zscore  avg_articles_2018_zscore  \\\n",
      "0                 -0.629011                 -0.609450   \n",
      "1                  0.529984                 -0.166628   \n",
      "2                 -0.587619                 -0.698014   \n",
      "3                 -0.463441                  1.958918   \n",
      "4                  2.102905                  1.604661   \n",
      "\n",
      "   avg_articles_2019_zscore  avg_articles_2020_zscore  sales_channel_1_zscore  \\\n",
      "0                 -0.614628                 -0.629011               -0.544905   \n",
      "1                  0.298112                  0.529984               -0.739161   \n",
      "2                 -0.842813                 -0.587619               -0.884853   \n",
      "3                  1.267898                 -0.463441               -0.836289   \n",
      "4                  0.811528                  2.102905               -0.933417   \n",
      "\n",
      "   sales_channel_2_zscore  tot_amount_2018_zscore  ...  Non-Active  Active  \\\n",
      "0               -0.561225               -0.493943  ...         1.0     0.0   \n",
      "1                0.633767               -0.011043  ...         1.0     0.0   \n",
      "2               -0.578544               -0.606777  ...         0.0     1.0   \n",
      "3                1.257241                0.735588  ...         0.0     1.0   \n",
      "4                2.019264                1.695742  ...         0.0     1.0   \n",
      "\n",
      "   FN_no  FN_yes  club_status_active  club_status_leftclub  \\\n",
      "0    1.0     0.0                 1.0                   0.0   \n",
      "1    1.0     0.0                 1.0                   0.0   \n",
      "2    0.0     1.0                 1.0                   0.0   \n",
      "3    0.0     1.0                 1.0                   0.0   \n",
      "4    0.0     1.0                 1.0                   0.0   \n",
      "\n",
      "   club_status_precreate  fn_frequency_monthly  fn_frequency_none  \\\n",
      "0                    0.0                   0.0                1.0   \n",
      "1                    0.0                   0.0                1.0   \n",
      "2                    0.0                   0.0                0.0   \n",
      "3                    0.0                   0.0                0.0   \n",
      "4                    0.0                   0.0                0.0   \n",
      "\n",
      "   fn_frequency_regularly  \n",
      "0                     0.0  \n",
      "1                     0.0  \n",
      "2                     1.0  \n",
      "3                     1.0  \n",
      "4                     1.0  \n",
      "\n",
      "[5 rows x 36 columns]\n"
     ]
    }
   ],
   "source": [
    "print(customers.head())"
   ]
  },
  {
   "cell_type": "code",
   "execution_count": 104,
   "metadata": {},
   "outputs": [
    {
     "name": "stdout",
     "output_type": "stream",
     "text": [
      "age_zscore                    float64\n",
      "tot_articles_2018_zscore      float64\n",
      "tot_articles_2019_zscore      float64\n",
      "tot_articles_2020_zscore      float64\n",
      "avg_articles_2018_zscore      float64\n",
      "avg_articles_2019_zscore      float64\n",
      "avg_articles_2020_zscore      float64\n",
      "sales_channel_1_zscore        float64\n",
      "sales_channel_2_zscore        float64\n",
      "tot_amount_2018_zscore        float64\n",
      "tot_amount_2019_zscore        float64\n",
      "tot_amount_2020_zscore        float64\n",
      "avg_amount_2018_zscore        float64\n",
      "avg_amount_2019_zscore        float64\n",
      "avg_amount_2020_zscore        float64\n",
      "Woman_zscore                  float64\n",
      "Young_zscore                  float64\n",
      "Man_zscore                    float64\n",
      "Have-kids_zscore              float64\n",
      "Sports-person_zscore          float64\n",
      "count_colours_2018_zscore     float64\n",
      "count_colours_2019_zscore     float64\n",
      "count_colours_2020_zscore     float64\n",
      "count_garments_2018_zscore    float64\n",
      "count_garments_2019_zscore    float64\n",
      "count_garments_2020_zscore    float64\n",
      "Non-Active                    float64\n",
      "Active                        float64\n",
      "FN_no                         float64\n",
      "FN_yes                        float64\n",
      "club_status_active            float64\n",
      "club_status_leftclub          float64\n",
      "club_status_precreate         float64\n",
      "fn_frequency_monthly          float64\n",
      "fn_frequency_none             float64\n",
      "fn_frequency_regularly        float64\n",
      "dtype: object\n"
     ]
    }
   ],
   "source": [
    "print(customers.dtypes)"
   ]
  },
  {
   "cell_type": "code",
   "execution_count": null,
   "metadata": {},
   "outputs": [],
   "source": []
  }
 ],
 "metadata": {
  "kernelspec": {
   "display_name": "Python 3",
   "language": "python",
   "name": "python3"
  },
  "language_info": {
   "codemirror_mode": {
    "name": "ipython",
    "version": 3
   },
   "file_extension": ".py",
   "mimetype": "text/x-python",
   "name": "python",
   "nbconvert_exporter": "python",
   "pygments_lexer": "ipython3",
   "version": "3.8.5"
  }
 },
 "nbformat": 4,
 "nbformat_minor": 4
}
